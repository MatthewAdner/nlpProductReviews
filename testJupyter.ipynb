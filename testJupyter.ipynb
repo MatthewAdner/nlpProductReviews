{
 "metadata": {
  "language_info": {
   "codemirror_mode": {
    "name": "ipython",
    "version": 3
   },
   "file_extension": ".py",
   "mimetype": "text/x-python",
   "name": "python",
   "nbconvert_exporter": "python",
   "pygments_lexer": "ipython3",
   "version": "3.8.3"
  },
  "orig_nbformat": 4,
  "kernelspec": {
   "name": "python3",
   "display_name": "Python 3.8.3 64-bit"
  },
  "interpreter": {
   "hash": "a327fee8188753d86e049de1adfdff2099c7107d8c4d4502131eeabfe8f32893"
  }
 },
 "nbformat": 4,
 "nbformat_minor": 2,
 "cells": [
  {
   "cell_type": "code",
   "execution_count": 3,
   "source": [
    "from typing import Text\r\n",
    "from nltk.util import pr\r\n",
    "from textblob import TextBlob"
   ],
   "outputs": [],
   "metadata": {}
  },
  {
   "cell_type": "code",
   "execution_count": 6,
   "source": [
    "# prints out polarity and subjectivity subjectivity is how subjective/objective it is, polarity is positive or negative\r\n",
    "testimonial = TextBlob(\"I feel sad.\")\r\n",
    "print(testimonial.subjectivity)"
   ],
   "outputs": [
    {
     "output_type": "stream",
     "name": "stdout",
     "text": [
      "1.0\n"
     ]
    }
   ],
   "metadata": {}
  },
  {
   "cell_type": "code",
   "execution_count": 3,
   "source": [
    "# tests a negative statement for polarity (postive/negative sentiment)\r\n",
    "negTesti = TextBlob(\"I hate text blob and it is terrible! Who would ever use something so terrible as text blob?!\")\r\n",
    "print(f\"negTesti is {negTesti.sentiment.polarity}\")"
   ],
   "outputs": [
    {
     "output_type": "stream",
     "name": "stdout",
     "text": [
      "negTesti is -0.9333333333333332\n"
     ]
    }
   ],
   "metadata": {}
  },
  {
   "cell_type": "code",
   "execution_count": 4,
   "source": [
    "# tests a positive statement for polarity\r\n",
    "postesti = TextBlob(\"Text blob is great! I love it!\")\r\n",
    "print(f\"posTesti is {postesti.sentiment.polarity}\")"
   ],
   "outputs": [
    {
     "output_type": "stream",
     "name": "stdout",
     "text": [
      "posTesti is 0.8125\n"
     ]
    }
   ],
   "metadata": {}
  },
  {
   "cell_type": "code",
   "execution_count": null,
   "source": [],
   "outputs": [],
   "metadata": {}
  }
 ]
}