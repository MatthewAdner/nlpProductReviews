{
 "metadata": {
  "language_info": {
   "codemirror_mode": {
    "name": "ipython",
    "version": 3
   },
   "file_extension": ".py",
   "mimetype": "text/x-python",
   "name": "python",
   "nbconvert_exporter": "python",
   "pygments_lexer": "ipython3",
   "version": "3.8.3"
  },
  "orig_nbformat": 4,
  "kernelspec": {
   "name": "python3",
   "display_name": "Python 3.8.3 64-bit"
  },
  "interpreter": {
   "hash": "a327fee8188753d86e049de1adfdff2099c7107d8c4d4502131eeabfe8f32893"
  }
 },
 "nbformat": 4,
 "nbformat_minor": 2,
 "cells": [
  {
   "cell_type": "code",
   "execution_count": 1,
   "metadata": {},
   "outputs": [],
   "source": [
    "from typing import Text\n",
    "from nltk.util import pr\n",
    "from textblob import TextBlob"
   ]
  },
  {
   "cell_type": "code",
   "execution_count": 2,
   "metadata": {},
   "outputs": [
    {
     "output_type": "stream",
     "name": "stdout",
     "text": [
      "Sentiment(polarity=0.0, subjectivity=0.0)\n"
     ]
    }
   ],
   "source": [
    "# prints out polarity and subjectivity subjectivity is how subjective/objective it is, polarity is positive or negative\n",
    "testimonial = TextBlob(\"Text blob is a library.\")\n",
    "print(testimonial.sentiment)"
   ]
  },
  {
   "cell_type": "code",
   "execution_count": 3,
   "metadata": {},
   "outputs": [
    {
     "output_type": "stream",
     "name": "stdout",
     "text": [
      "negTesti is -0.9333333333333332\n"
     ]
    }
   ],
   "source": [
    "# tests a negative statement for polarity (postive/negative sentiment)\n",
    "negTesti = TextBlob(\"I hate text blob and it is terrible! Who would ever use something so terrible as text blob?!\")\n",
    "print(f\"negTesti is {negTesti.sentiment.polarity}\")"
   ]
  },
  {
   "cell_type": "code",
   "execution_count": 4,
   "metadata": {},
   "outputs": [
    {
     "output_type": "stream",
     "name": "stdout",
     "text": [
      "posTesti is 0.8125\n"
     ]
    }
   ],
   "source": [
    "# tests a positive statement for polarity\n",
    "postesti = TextBlob(\"Text blob is great! I love it!\")\n",
    "print(f\"posTesti is {postesti.sentiment.polarity}\")"
   ]
  },
  {
   "cell_type": "code",
   "execution_count": null,
   "metadata": {},
   "outputs": [],
   "source": []
  }
 ]
}