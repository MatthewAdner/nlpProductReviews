{
 "cells": [
  {
   "cell_type": "code",
   "execution_count": 1,
   "source": [
    "from fuzzywuzzy import fuzz\r\n",
    "from fuzzywuzzy import process\r\n",
    "import numpy as np\r\n",
    "import pandas as pd\r\n",
    "import csv\r\n",
    "\r\n",
    "df = pd.read_csv(\"Amazon_Unlocked_Mobile_without_duplicates.csv\")\r\n",
    "\r\n",
    "\r\n"
   ],
   "outputs": [
    {
     "output_type": "stream",
     "name": "stderr",
     "text": [
      "C:\\Users\\matth\\AppData\\Local\\Programs\\Python\\Python38\\lib\\site-packages\\fuzzywuzzy\\fuzz.py:11: UserWarning: Using slow pure-python SequenceMatcher. Install python-Levenshtein to remove this warning\n",
      "  warnings.warn('Using slow pure-python SequenceMatcher. Install python-Levenshtein to remove this warning')\n"
     ]
    }
   ],
   "metadata": {}
  },
  {
   "cell_type": "code",
   "execution_count": 2,
   "source": [
    "df = df.sample(frac=0.1, random_state = 5)\r\n",
    "df.head()"
   ],
   "outputs": [
    {
     "output_type": "execute_result",
     "data": {
      "text/plain": [
       "                                             Product Name Brand Name   Price  \\\n",
       "324367  Samsung Galaxy Note 3 N9005 32GB 4G LTE WHITE ...        NaN  313.05   \n",
       "54699   Apple iPhone 6 a1549 64GB Space Gray Unlocked ...        NaN  419.99   \n",
       "51308   Apple iPhone 6 128GB Factory Unlocked GSM 4G L...        NaN  417.35   \n",
       "237255  LG Revolution 4G Android Phone (Verizon Wireless)         LG   38.95   \n",
       "151703  BLU Studio C Super Camera -Unlocked Smartphone...        BLU   99.96   \n",
       "\n",
       "        Rating                                            Reviews  \\\n",
       "324367       5  This was a gift and it is loved actually Aweso...   \n",
       "54699        5    Absolutely LOVE my new iPhone 6! Works perfect!   \n",
       "51308        5  My phone came in awesome condition. It says th...   \n",
       "237255       1  This phone is great until it dies. Everytime t...   \n",
       "151703       1        Garbage just throw it away waste your money   \n",
       "\n",
       "        Review Votes  \n",
       "324367           0.0  \n",
       "54699            0.0  \n",
       "51308            2.0  \n",
       "237255           2.0  \n",
       "151703           0.0  "
      ],
      "text/html": [
       "<div>\n",
       "<style scoped>\n",
       "    .dataframe tbody tr th:only-of-type {\n",
       "        vertical-align: middle;\n",
       "    }\n",
       "\n",
       "    .dataframe tbody tr th {\n",
       "        vertical-align: top;\n",
       "    }\n",
       "\n",
       "    .dataframe thead th {\n",
       "        text-align: right;\n",
       "    }\n",
       "</style>\n",
       "<table border=\"1\" class=\"dataframe\">\n",
       "  <thead>\n",
       "    <tr style=\"text-align: right;\">\n",
       "      <th></th>\n",
       "      <th>Product Name</th>\n",
       "      <th>Brand Name</th>\n",
       "      <th>Price</th>\n",
       "      <th>Rating</th>\n",
       "      <th>Reviews</th>\n",
       "      <th>Review Votes</th>\n",
       "    </tr>\n",
       "  </thead>\n",
       "  <tbody>\n",
       "    <tr>\n",
       "      <th>324367</th>\n",
       "      <td>Samsung Galaxy Note 3 N9005 32GB 4G LTE WHITE ...</td>\n",
       "      <td>NaN</td>\n",
       "      <td>313.05</td>\n",
       "      <td>5</td>\n",
       "      <td>This was a gift and it is loved actually Aweso...</td>\n",
       "      <td>0.0</td>\n",
       "    </tr>\n",
       "    <tr>\n",
       "      <th>54699</th>\n",
       "      <td>Apple iPhone 6 a1549 64GB Space Gray Unlocked ...</td>\n",
       "      <td>NaN</td>\n",
       "      <td>419.99</td>\n",
       "      <td>5</td>\n",
       "      <td>Absolutely LOVE my new iPhone 6! Works perfect!</td>\n",
       "      <td>0.0</td>\n",
       "    </tr>\n",
       "    <tr>\n",
       "      <th>51308</th>\n",
       "      <td>Apple iPhone 6 128GB Factory Unlocked GSM 4G L...</td>\n",
       "      <td>NaN</td>\n",
       "      <td>417.35</td>\n",
       "      <td>5</td>\n",
       "      <td>My phone came in awesome condition. It says th...</td>\n",
       "      <td>2.0</td>\n",
       "    </tr>\n",
       "    <tr>\n",
       "      <th>237255</th>\n",
       "      <td>LG Revolution 4G Android Phone (Verizon Wireless)</td>\n",
       "      <td>LG</td>\n",
       "      <td>38.95</td>\n",
       "      <td>1</td>\n",
       "      <td>This phone is great until it dies. Everytime t...</td>\n",
       "      <td>2.0</td>\n",
       "    </tr>\n",
       "    <tr>\n",
       "      <th>151703</th>\n",
       "      <td>BLU Studio C Super Camera -Unlocked Smartphone...</td>\n",
       "      <td>BLU</td>\n",
       "      <td>99.96</td>\n",
       "      <td>1</td>\n",
       "      <td>Garbage just throw it away waste your money</td>\n",
       "      <td>0.0</td>\n",
       "    </tr>\n",
       "  </tbody>\n",
       "</table>\n",
       "</div>"
      ]
     },
     "metadata": {},
     "execution_count": 2
    }
   ],
   "metadata": {}
  },
  {
   "cell_type": "code",
   "execution_count": 3,
   "source": [
    "df.dropna(inplace=True)\r\n",
    "df=df[df['Rating']!=3]\r\n",
    "\r\n",
    "df['Positively Rated'] = np.where(df['Rating']>3,1,0)\r\n",
    "df.head(10)"
   ],
   "outputs": [
    {
     "output_type": "execute_result",
     "data": {
      "text/plain": [
       "                                             Product Name   Brand Name  \\\n",
       "237255  LG Revolution 4G Android Phone (Verizon Wireless)           LG   \n",
       "151703  BLU Studio C Super Camera -Unlocked Smartphone...          BLU   \n",
       "243852  Moto G Plus (4th Gen.) Unlocked - Black - 64GB...     Motorola   \n",
       "11089     Apple iPhone 4S 16GB (Black) - Locked to Sprint        Apple   \n",
       "71630   Apple iPhone 6S Plus Unlocked Smartphone, 64 G...        Apple   \n",
       "407575  Verizon LG VX10000 Voyager with Touch Screen &...           LG   \n",
       "153134  BLU Studio M HD 16GB - 5.0\" Smartphone -US GSM...          BLU   \n",
       "21235      Apple iPhone 5 64GB (White) - Verizon Wireless        Apple   \n",
       "292243  Polaroid A1BK Unlocked Phone Dual SIM GSM With...     Polaroid   \n",
       "294610  Posh Mobile Icon S510-B GSM Unlocked 4G HSDPA+...  Posh Mobile   \n",
       "\n",
       "         Price  Rating                                            Reviews  \\\n",
       "237255   38.95       1  This phone is great until it dies. Everytime t...   \n",
       "151703   99.96       1        Garbage just throw it away waste your money   \n",
       "243852  299.00       5                                 Very Good Phone!!!   \n",
       "11089    53.00       5  even nicer than the rating, works perfect, wil...   \n",
       "71630    26.41       1  The phone was sealed in a bag that said 32gb b...   \n",
       "407575   14.44       5                                               Nice   \n",
       "153134   79.99       1  I have purchased other Blu phones in the past ...   \n",
       "21235   139.95       5  I already had an iphone 4, so I change it for ...   \n",
       "292243   29.30       1  This product has been very hard for my son to ...   \n",
       "294610   68.00       1                          Phone wont even turn on.?   \n",
       "\n",
       "        Review Votes  Positively Rated  \n",
       "237255           2.0                 0  \n",
       "151703           0.0                 0  \n",
       "243852           1.0                 1  \n",
       "11089            0.0                 1  \n",
       "71630            1.0                 0  \n",
       "407575           0.0                 1  \n",
       "153134           0.0                 0  \n",
       "21235            2.0                 1  \n",
       "292243           0.0                 0  \n",
       "294610           0.0                 0  "
      ],
      "text/html": [
       "<div>\n",
       "<style scoped>\n",
       "    .dataframe tbody tr th:only-of-type {\n",
       "        vertical-align: middle;\n",
       "    }\n",
       "\n",
       "    .dataframe tbody tr th {\n",
       "        vertical-align: top;\n",
       "    }\n",
       "\n",
       "    .dataframe thead th {\n",
       "        text-align: right;\n",
       "    }\n",
       "</style>\n",
       "<table border=\"1\" class=\"dataframe\">\n",
       "  <thead>\n",
       "    <tr style=\"text-align: right;\">\n",
       "      <th></th>\n",
       "      <th>Product Name</th>\n",
       "      <th>Brand Name</th>\n",
       "      <th>Price</th>\n",
       "      <th>Rating</th>\n",
       "      <th>Reviews</th>\n",
       "      <th>Review Votes</th>\n",
       "      <th>Positively Rated</th>\n",
       "    </tr>\n",
       "  </thead>\n",
       "  <tbody>\n",
       "    <tr>\n",
       "      <th>237255</th>\n",
       "      <td>LG Revolution 4G Android Phone (Verizon Wireless)</td>\n",
       "      <td>LG</td>\n",
       "      <td>38.95</td>\n",
       "      <td>1</td>\n",
       "      <td>This phone is great until it dies. Everytime t...</td>\n",
       "      <td>2.0</td>\n",
       "      <td>0</td>\n",
       "    </tr>\n",
       "    <tr>\n",
       "      <th>151703</th>\n",
       "      <td>BLU Studio C Super Camera -Unlocked Smartphone...</td>\n",
       "      <td>BLU</td>\n",
       "      <td>99.96</td>\n",
       "      <td>1</td>\n",
       "      <td>Garbage just throw it away waste your money</td>\n",
       "      <td>0.0</td>\n",
       "      <td>0</td>\n",
       "    </tr>\n",
       "    <tr>\n",
       "      <th>243852</th>\n",
       "      <td>Moto G Plus (4th Gen.) Unlocked - Black - 64GB...</td>\n",
       "      <td>Motorola</td>\n",
       "      <td>299.00</td>\n",
       "      <td>5</td>\n",
       "      <td>Very Good Phone!!!</td>\n",
       "      <td>1.0</td>\n",
       "      <td>1</td>\n",
       "    </tr>\n",
       "    <tr>\n",
       "      <th>11089</th>\n",
       "      <td>Apple iPhone 4S 16GB (Black) - Locked to Sprint</td>\n",
       "      <td>Apple</td>\n",
       "      <td>53.00</td>\n",
       "      <td>5</td>\n",
       "      <td>even nicer than the rating, works perfect, wil...</td>\n",
       "      <td>0.0</td>\n",
       "      <td>1</td>\n",
       "    </tr>\n",
       "    <tr>\n",
       "      <th>71630</th>\n",
       "      <td>Apple iPhone 6S Plus Unlocked Smartphone, 64 G...</td>\n",
       "      <td>Apple</td>\n",
       "      <td>26.41</td>\n",
       "      <td>1</td>\n",
       "      <td>The phone was sealed in a bag that said 32gb b...</td>\n",
       "      <td>1.0</td>\n",
       "      <td>0</td>\n",
       "    </tr>\n",
       "    <tr>\n",
       "      <th>407575</th>\n",
       "      <td>Verizon LG VX10000 Voyager with Touch Screen &amp;...</td>\n",
       "      <td>LG</td>\n",
       "      <td>14.44</td>\n",
       "      <td>5</td>\n",
       "      <td>Nice</td>\n",
       "      <td>0.0</td>\n",
       "      <td>1</td>\n",
       "    </tr>\n",
       "    <tr>\n",
       "      <th>153134</th>\n",
       "      <td>BLU Studio M HD 16GB - 5.0\" Smartphone -US GSM...</td>\n",
       "      <td>BLU</td>\n",
       "      <td>79.99</td>\n",
       "      <td>1</td>\n",
       "      <td>I have purchased other Blu phones in the past ...</td>\n",
       "      <td>0.0</td>\n",
       "      <td>0</td>\n",
       "    </tr>\n",
       "    <tr>\n",
       "      <th>21235</th>\n",
       "      <td>Apple iPhone 5 64GB (White) - Verizon Wireless</td>\n",
       "      <td>Apple</td>\n",
       "      <td>139.95</td>\n",
       "      <td>5</td>\n",
       "      <td>I already had an iphone 4, so I change it for ...</td>\n",
       "      <td>2.0</td>\n",
       "      <td>1</td>\n",
       "    </tr>\n",
       "    <tr>\n",
       "      <th>292243</th>\n",
       "      <td>Polaroid A1BK Unlocked Phone Dual SIM GSM With...</td>\n",
       "      <td>Polaroid</td>\n",
       "      <td>29.30</td>\n",
       "      <td>1</td>\n",
       "      <td>This product has been very hard for my son to ...</td>\n",
       "      <td>0.0</td>\n",
       "      <td>0</td>\n",
       "    </tr>\n",
       "    <tr>\n",
       "      <th>294610</th>\n",
       "      <td>Posh Mobile Icon S510-B GSM Unlocked 4G HSDPA+...</td>\n",
       "      <td>Posh Mobile</td>\n",
       "      <td>68.00</td>\n",
       "      <td>1</td>\n",
       "      <td>Phone wont even turn on.?</td>\n",
       "      <td>0.0</td>\n",
       "      <td>0</td>\n",
       "    </tr>\n",
       "  </tbody>\n",
       "</table>\n",
       "</div>"
      ]
     },
     "metadata": {},
     "execution_count": 3
    }
   ],
   "metadata": {}
  },
  {
   "cell_type": "code",
   "execution_count": 4,
   "source": [
    "import matplotlib.pyplot as plt\r\n",
    "%matplotlib inline\r\n",
    "plt.style.use('fivethirtyeight')\r\n",
    "\r\n",
    "fig, (ax0, ax1) = plt.subplots(nrows=1, ncols=2, figsize = (20,12))\r\n",
    "ax0.scatter(df['Rating'],df['Review Votes'])\r\n",
    "ax0.set(title= 'Rating vs Review Votes', xlabel = 'Rating', ylabel = 'Review Votes')\r\n",
    "ax1.plot(df['Rating']==4, df['Rating']==5)\r\n",
    "ax1.set(title='Rating 4 vs Rating 5', xlabel='Rating 4', ylabel='Rating 5');\r\n"
   ],
   "outputs": [
    {
     "output_type": "execute_result",
     "data": {
      "text/plain": [
       "[Text(0, 0.5, 'Rating 5'),\n",
       " Text(0.5, 0, 'Rating 4'),\n",
       " Text(0.5, 1.0, 'Rating 4 vs Rating 5')]"
      ]
     },
     "metadata": {},
     "execution_count": 4
    },
    {
     "output_type": "display_data",
     "data": {
      "text/plain": [
       "<Figure size 1440x864 with 2 Axes>"
      ],
      "image/png": "[encoded data removed]"
     },
     "metadata": {}
    }
   ],
   "metadata": {}
  },
  {
   "cell_type": "code",
   "execution_count": 5,
   "source": [
    "df['Positively Rated'].mean()"
   ],
   "outputs": [
    {
     "output_type": "execute_result",
     "data": {
      "text/plain": [
       "0.7478300297966057"
      ]
     },
     "metadata": {},
     "execution_count": 5
    }
   ],
   "metadata": {}
  },
  {
   "cell_type": "code",
   "execution_count": 6,
   "source": [
    "ylabel = df['Price']\r\n",
    "plt.ylabel(\"Price\")\r\n",
    "plt.xlabel(\"Rating\")\r\n",
    "xlabel = df[\"Rating\"]\r\n",
    "plt.scatter(xlabel, ylabel, alpha =0.1)\r\n",
    "plt.show()"
   ],
   "outputs": [
    {
     "output_type": "display_data",
     "data": {
      "text/plain": [
       "<Figure size 432x288 with 1 Axes>"
      ],
      "image/png": "[encoded data removed]"
     },
     "metadata": {}
    }
   ],
   "metadata": {}
  },
  {
   "cell_type": "code",
   "execution_count": 7,
   "source": [
    "ylabel2 = df[\"Price\"]\r\n",
    "plt.ylabel(\"Price\")\r\n",
    "xlabel2=df[\"Review Votes\"]\r\n",
    "plt.xlabel(\"Review Votes\")\r\n",
    "plt.scatter(xlabel2, ylabel2, alpha=0.1)\r\n",
    "plt.show()"
   ],
   "outputs": [
    {
     "output_type": "display_data",
     "data": {
      "text/plain": [
       "<Figure size 432x288 with 1 Axes>"
      ],
      "image/png": "[encoded data removed]"
     },
     "metadata": {}
    }
   ],
   "metadata": {}
  },
  {
   "cell_type": "code",
   "execution_count": 11,
   "source": [
    "from sklearn.model_selection import train_test_split\r\n",
    "X = df['Reviews']\r\n",
    "y = df['Positively Rated']\r\n",
    "\r\n",
    "X_train, X_test, y_train, y_test = train_test_split(X, y, random_state = 0)\r\n",
    "print('X_train first entry:\\n', X_train.iloc[0])\r\n",
    "print('\\nX_train shape', X_train.shape)\r\n",
    "\r\n",
    "df['Positively Rated'].value_counts()"
   ],
   "outputs": [
    {
     "output_type": "stream",
     "name": "stdout",
     "text": [
      "X_train first entry:\n",
      " I got tired of giving Apple all my money and decided to switch from my iPhone 6 to an affordable Android phone. I like Amazon a lot and had considered the Blu, but I'm on Verizon, so I couldn't. When the announced the Play for only $99, it was a no brainer.If you're looking for a review comparing how this phone handles Android vs other phones, stop now. I wouldn't know. This is really about my experience switching from ios. So, how was it? Easy! I was very pleased and very surprised. I had 90% of the phone's operation down within a couple hours. Within a couple days, I was at 95%. It was fairly intuitive.So, about the phone itself. I like the size. It's a little bigger than my iPhone, so it wasn't too much of a transition. I didn't want a big phone. The screen resolution was great except in direct sunlight. I didn't care for the placement of the buttons on the side. I kept turning off the screen when I was trying to adjust the volume. The battery life is excellent and I really like the quick charge!But, here's the deal breaker. It's just too laggy. The memory was constantly full; playing any game other than card games would slow down the phone. I was using it for a conference call, had it on speakerphone and was moving between other apps sending a text message and looking up a phone number. It lagged badly. That's when I made the decision to send it back. I can deal with not having the gold standard of phones, but I can't deal with that much lag.That said, I like the phone overall. So, I'm upgrading to the Moto G4. While it is slightly bigger, which I do t like, the processor is much faster than the Play. The Play is a great phone and I highly recommend it to people who aren't too demanding of their phones. I was just trying to do too much with a budget phone. It's more a negative reflection on me than the phone.\n",
      "\n",
      "X_train shape (23157,)\n"
     ]
    },
    {
     "output_type": "execute_result",
     "data": {
      "text/plain": [
       "1    23090\n",
       "0     7786\n",
       "Name: Positively Rated, dtype: int64"
      ]
     },
     "metadata": {},
     "execution_count": 11
    }
   ],
   "metadata": {}
  },
  {
   "cell_type": "code",
   "execution_count": 13,
   "source": [
    "from sklearn.feature_extraction.text import CountVectorizer\r\n",
    "vect = CountVectorizer()\r\n",
    "vect.fit(X_train)\r\n",
    "\r\n",
    "vect.get_feature_names()[::2000]"
   ],
   "outputs": [
    {
     "output_type": "execute_result",
     "data": {
      "text/plain": [
       "['00',\n",
       " 'argh',\n",
       " 'colleague',\n",
       " 'ducked',\n",
       " 'gliching',\n",
       " 'krishna',\n",
       " 'obligation',\n",
       " 'rate',\n",
       " 'slowing',\n",
       " 'tudia']"
      ]
     },
     "metadata": {},
     "execution_count": 13
    }
   ],
   "metadata": {}
  },
  {
   "cell_type": "code",
   "execution_count": 15,
   "source": [
    "len(vect.get_feature_names())"
   ],
   "outputs": [
    {
     "output_type": "execute_result",
     "data": {
      "text/plain": [
       "19669"
      ]
     },
     "metadata": {},
     "execution_count": 15
    }
   ],
   "metadata": {}
  },
  {
   "cell_type": "code",
   "execution_count": 16,
   "source": [
    "X_train_vectorized = vect.transform(X_train)\r\n",
    "X_train_vectorized"
   ],
   "outputs": [
    {
     "output_type": "execute_result",
     "data": {
      "text/plain": [
       "<23157x19669 sparse matrix of type '<class 'numpy.int64'>'\n",
       "\twith 611392 stored elements in Compressed Sparse Row format>"
      ]
     },
     "metadata": {},
     "execution_count": 16
    }
   ],
   "metadata": {}
  },
  {
   "cell_type": "code",
   "execution_count": 17,
   "source": [
    "from sklearn.linear_model import LogisticRegression\r\n",
    "model = LogisticRegression()\r\n",
    "model.fit(X_train_vectorized, y_train)"
   ],
   "outputs": [
    {
     "output_type": "stream",
     "name": "stderr",
     "text": [
      "C:\\Users\\matth\\AppData\\Local\\Programs\\Python\\Python38\\lib\\site-packages\\sklearn\\linear_model\\_logistic.py:763: ConvergenceWarning: lbfgs failed to converge (status=1):\n",
      "STOP: TOTAL NO. of ITERATIONS REACHED LIMIT.\n",
      "\n",
      "Increase the number of iterations (max_iter) or scale the data as shown in:\n",
      "    https://scikit-learn.org/stable/modules/preprocessing.html\n",
      "Please also refer to the documentation for alternative solver options:\n",
      "    https://scikit-learn.org/stable/modules/linear_model.html#logistic-regression\n",
      "  n_iter_i = _check_optimize_result(\n"
     ]
    },
    {
     "output_type": "execute_result",
     "data": {
      "text/plain": [
       "LogisticRegression()"
      ]
     },
     "metadata": {},
     "execution_count": 17
    }
   ],
   "metadata": {}
  },
  {
   "cell_type": "code",
   "execution_count": 18,
   "source": [
    "from sklearn.metrics import roc_auc_score, roc_curve\r\n",
    "\r\n",
    "predictions = model.predict(vect.transform(X_test))\r\n",
    "print('AUC: ', roc_auc_score(y_test,predictions))"
   ],
   "outputs": [
    {
     "output_type": "stream",
     "name": "stdout",
     "text": [
      "AUC:  0.8909354065798831\n"
     ]
    }
   ],
   "metadata": {}
  },
  {
   "cell_type": "code",
   "execution_count": 20,
   "source": [
    "feature_names = np.array(vect.get_feature_names())\r\n",
    "# ^above... gets feature names as np (numpy) array\r\n",
    "# sorts coefficient from model\r\n",
    "sorted_coef_index =model.coef_[0].argsort()\r\n",
    "\r\n",
    "print('Smallest Coefficient (Negative reviews): \\n{}\\n'.format(feature_names[sorted_coef_index[:10]]))\r\n",
    "print('Largest Coefficient (Positive reviews): \\n{}'.format(feature_names[sorted_coef_index[:-11:-1]]))"
   ],
   "outputs": [
    {
     "output_type": "stream",
     "name": "stdout",
     "text": [
      "Smallest Coefficient (Negative reviews): \n",
      "['horrible' 'worst' 'junk' 'waste' 'slow' 'disappointing' 'return' 'poor'\n",
      " 'suppose' 'broken']\n",
      "\n",
      "Largest Coefficient (Positive reviews): \n",
      "['excellent' 'excelent' 'excelente' 'love' 'awesome' 'perfect' 'loves'\n",
      " 'great' 'amazing' 'perfectly']\n"
     ]
    }
   ],
   "metadata": {}
  }
 ],
 "metadata": {
  "orig_nbformat": 4,
  "language_info": {
   "name": "python",
   "version": "3.8.3",
   "mimetype": "text/x-python",
   "codemirror_mode": {
    "name": "ipython",
    "version": 3
   },
   "pygments_lexer": "ipython3",
   "nbconvert_exporter": "python",
   "file_extension": ".py"
  },
  "kernelspec": {
   "name": "python3",
   "display_name": "Python 3.8.3 64-bit"
  },
  "interpreter": {
   "hash": "a327fee8188753d86e049de1adfdff2099c7107d8c4d4502131eeabfe8f32893"
  }
 },
 "nbformat": 4,
 "nbformat_minor": 2
}