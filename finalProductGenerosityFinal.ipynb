{
 "cells": [
  {
   "cell_type": "code",
   "execution_count": 1,
   "metadata": {},
   "outputs": [
    {
     "name": "stderr",
     "output_type": "stream",
     "text": [
      "/usr/local/lib/python3.8/site-packages/fuzzywuzzy/fuzz.py:11: UserWarning: Using slow pure-python SequenceMatcher. Install python-Levenshtein to remove this warning\n",
      "  warnings.warn('Using slow pure-python SequenceMatcher. Install python-Levenshtein to remove this warning')\n"
     ]
    }
   ],
   "source": [
    "from fuzzywuzzy import fuzz\n",
    "from fuzzywuzzy import process\n",
    "import numpy as np\n",
    "import pandas as pd\n",
    "import csv\n",
    "\n",
    "# imports csv as a dataframe\n",
    "df = pd.read_csv(\"Amazon_Unlocked_Mobile_without_duplicates.csv\")"
   ]
  },
  {
   "cell_type": "code",
   "execution_count": 2,
   "metadata": {},
   "outputs": [],
   "source": [
    "# list of names and misspellings of companies\n",
    "duplicates = [[\"Samsung\", \"samsung\", \"SAMSUNG\", \"Samsung Korea LTD\"], [\"BLU\"], [\"Apple\"], [\"LG\", \"LG Electronics\", \"LG Electronics MobileComm USA\"], [\"BlackBerry\", \"Blackberry\"], [\"Nokia\"], [\"Motorola\"], [\"HTC\"], [\"CNPGD\"], [\"Sony\", \"Sony Ericsson Mobile\", \"Sony Ericsson\"], [\"OtterBox\"], [\"Posh Mobile\"], [\"Huawei\", \"HUAWEI\"], [\"ZTE\"], [\"Polaroid\"], [\"Alcatel\"], [\"Asus\", \"ASUS Computers\", \"ASUS\"], [\"Ultrabox\"], [\"FIGO\"], [\"verykool\"], [\"Lenovo\"], [\"Casio\"], [\"RCA\"], [\"Amazon\",\"Amazon.com, LLC *** KEEP PORules ACTIVE ***\"], [\"Pantech\"], [\"Star\"], [\"Plum\"], [\"Jitterbug\"], [\"Microsoft\"], [\"Padgene\"], [\"CT-Miami LLC\"], [\"SKY Devices\"], [\"Yezz\"], [\"Sudroid\"], [\"Turbosight LLD\"], [\"JoyGeek\"]]\n",
    "brandNames = df[\"Brand Name\"].tolist()\n",
    "for i in duplicates:\n",
    "    for j in i:\n",
    "        if j not in brandNames:\n",
    "            print(\"NOT TRUE\")"
   ]
  },
  {
   "cell_type": "code",
   "execution_count": 3,
   "metadata": {},
   "outputs": [],
   "source": [
    "# makes a list of only correct brand names\n",
    "undup = []\n",
    "for i in duplicates:\n",
    "    undup.append(i[0])"
   ]
  },
  {
   "cell_type": "code",
   "execution_count": 4,
   "metadata": {},
   "outputs": [],
   "source": [
    "# a function that replaces the misspelled brands with correct brand names\n",
    "def replace(brand):\n",
    "    for a in duplicates:\n",
    "        for e in a:\n",
    "            if brand == e:\n",
    "                return(a[0])\n",
    "    \n",
    "# puts brand name column of dataframe in list \n",
    "temp = df[\"Brand Name\"].tolist()\n",
    "\n",
    "# replaces misspelled brand names with correctly spelled brand names\n",
    "for i in range(len(temp)):\n",
    "    temp[i] = replace(temp[i])\n",
    "\n",
    "# puts correctly spelled brand list into dataframe\n",
    "df[\"Brand Name\"] = temp"
   ]
  },
  {
   "cell_type": "code",
   "execution_count": 5,
   "metadata": {},
   "outputs": [],
   "source": [
    "rev = df[\"Reviews\"].to_list()\n",
    "# fuction to return the brand mentioned in the review\n",
    "def brandFinder(review):\n",
    "    #review.lower()\n",
    "    n = 0\n",
    "    brandFound = []\n",
    "    for b in undup:\n",
    "        if b.lower() in review.lower():\n",
    "            brandFound.append(b)\n",
    "    brandFoundFinal = []\n",
    "    for i in brandFound:\n",
    "        if i not in brandFoundFinal:\n",
    "            brandFoundFinal.append(i)\n",
    "    if len(brandFoundFinal) == 1:\n",
    "        return(brandFoundFinal[0])"
   ]
  },
  {
   "cell_type": "code",
   "execution_count": 6,
   "metadata": {},
   "outputs": [],
   "source": [
    "# finding the locations of the NaN brands in the list\n",
    "brandList = df[\"Brand Name\"].to_list()\n",
    "# saving a list of the reviews to look for the brands \n",
    "reviewList = df[\"Reviews\"].to_list()\n",
    "\n",
    "\n",
    "# makes a list with all the \n",
    "nanLocationList = []\n",
    "for i in range(len(brandList)):\n",
    "    if brandList[i] == None:\n",
    "        nanLocationList.append(i)\n",
    "\n",
    "\n",
    "z = 0\n",
    "for l in nanLocationList:\n",
    "    try:\n",
    "        brandList[l] = brandFinder(reviewList[l])\n",
    "    except:\n",
    "        z = 0\n",
    "df[\"Brand Name\"] = brandList"
   ]
  },
  {
   "cell_type": "code",
   "execution_count": 7,
   "metadata": {},
   "outputs": [],
   "source": [
    "# bigCompanies and smallCompanies exclude companies that do not manufacture phones and companeies with fewer tahn 500 reviews\n",
    "bigCompanies = {'Samsung', 'BLU', 'Apple', 'LG', 'BlackBerry', 'Nokia', 'Motorola', 'Posh Mobile', 'HTC', 'ZTE', 'RCA', 'Sony', 'Huawei', 'Asus', 'Amazon', 'Alcatel', 'Casio', 'Lenovo', 'Microsoft'}\n",
    "smallCompanies = {'CNPGD', 'Polaroid', 'FIGO', 'verykool', 'Pantech', 'Star', 'Plum', 'Jitterbug', 'Padgene'}\n",
    "allCompanies = {'Samsung', 'BLU', 'Apple', 'LG', 'BlackBerry', 'Nokia', 'Motorola', 'Posh Mobile', 'HTC', 'ZTE', 'RCA', 'Sony', 'Huawei', 'Asus', 'Amazon', 'Alcatel', 'Casio', 'Lenovo', 'Microsoft', 'CNPGD', 'Polaroid', 'FIGO', 'verykool', 'Pantech', 'Star', 'Plum', 'Jitterbug', 'Padgene'}\n"
   ]
  },
  {
   "cell_type": "code",
   "execution_count": 8,
   "metadata": {},
   "outputs": [],
   "source": [
    "# puts brand name, price, rating, review, and review votes into lists\n",
    "brandName = df[\"Brand Name\"].to_list()\n",
    "price = df[\"Price\"].to_list()\n",
    "rating = df[\"Rating\"].to_list()\n",
    "reviews = df[\"Reviews\"].to_list()\n",
    "reviewVotes = df[\"Review Votes\"].to_list()\n",
    "\n",
    "# fuction to pop item of specific location from all lists\n",
    "def multiPop(location):\n",
    "    brandName.pop(location)\n",
    "    price.pop(location)\n",
    "    rating.pop(location)\n",
    "    reviews.pop(location)\n",
    "    reviewVotes.pop(location)\n",
    "\n",
    "# makse a list of locations to pop so indexes dont get screwed up\n",
    "toPop = []\n",
    "\n",
    "# itterates through brandName and multiPops brands that are not in allCompanies and NaNs\n",
    "for brand in range(len(brandName)):\n",
    "    if brandName[brand] in allCompanies:\n",
    "        pass\n",
    "    else:\n",
    "        toPop.append(brand)\n",
    "\n",
    "toPop.reverse()\n",
    "for i in toPop:\n",
    "    multiPop(i)\n",
    "\n",
    "# makes empty list for big or small company identifier to go in\n",
    "size = []\n",
    "\n",
    "# itterates through brandName and checks if company is big or small and adds big/small to size\n",
    "for brand in range(len(brandName)):\n",
    "    if brandName[brand] in bigCompanies:\n",
    "        size.append(\"BIG\")\n",
    "    elif brandName[brand] in smallCompanies:\n",
    "        size.append(\"SMALL\")\n",
    "    else:\n",
    "        print(\"We not happy\")\n",
    "\n",
    "\n",
    "# makes new dataframe with lists\n",
    "dff = pd.DataFrame(list(zip(brandName, price, rating, reviews, reviewVotes, size)), columns= ['Brand Name', 'Price', 'Rating', 'Reviews', 'Review Votes', 'Size'])\n"
   ]
  },
  {
   "cell_type": "code",
   "execution_count": 9,
   "metadata": {},
   "outputs": [
    {
     "name": "stdout",
     "output_type": "stream",
     "text": [
      "       Brand Name   Price  Rating  \\\n",
      "0         Samsung  199.99       5   \n",
      "1         Samsung  199.99       4   \n",
      "2         Samsung  199.99       5   \n",
      "3         Samsung  199.99       4   \n",
      "4         Samsung  199.99       4   \n",
      "...           ...     ...     ...   \n",
      "336071    Samsung   79.95       5   \n",
      "336072    Samsung   79.95       3   \n",
      "336073    Samsung   79.95       5   \n",
      "336074    Samsung   79.95       3   \n",
      "336075    Samsung   79.95       4   \n",
      "\n",
      "                                                  Reviews  Review Votes Size  \n",
      "0       I feel so LUCKY to have found this used (phone...           1.0  BIG  \n",
      "1       nice phone, nice up grade from my pantach revu...           0.0  BIG  \n",
      "2                                            Very pleased           0.0  BIG  \n",
      "3       It works good but it goes slow sometimes but i...           0.0  BIG  \n",
      "4       Great phone to replace my lost phone. The only...           0.0  BIG  \n",
      "...                                                   ...           ...  ...  \n",
      "336071                     another great deal great price           0.0  BIG  \n",
      "336072                                                 Ok           0.0  BIG  \n",
      "336073        Passes every drop test onto porcelain tile!           0.0  BIG  \n",
      "336074  I returned it because it did not meet my needs...           0.0  BIG  \n",
      "336075  Only downside is that apparently Verizon no lo...           0.0  BIG  \n",
      "\n",
      "[336076 rows x 6 columns]\n"
     ]
    }
   ],
   "source": [
    "print(dff)"
   ]
  },
  {
   "cell_type": "code",
   "execution_count": 10,
   "metadata": {},
   "outputs": [
    {
     "name": "stdout",
     "output_type": "stream",
     "text": [
      "Brand Name          0\n",
      "Price            3812\n",
      "Rating              0\n",
      "Reviews            43\n",
      "Review Votes    10211\n",
      "Size                0\n",
      "dtype: int64\n",
      "---------\n",
      "Brand Name      0\n",
      "Price           0\n",
      "Rating          0\n",
      "Reviews         0\n",
      "Review Votes    0\n",
      "Size            0\n",
      "dtype: int64\n"
     ]
    }
   ],
   "source": [
    "print(dff.isnull().sum())\n",
    "print('---------')\n",
    "df_ev = dff.dropna()   # Creating new dataframe without null values\n",
    "print(df_ev.isnull().sum())"
   ]
  },
  {
   "cell_type": "code",
   "execution_count": 11,
   "metadata": {},
   "outputs": [
    {
     "name": "stderr",
     "output_type": "stream",
     "text": [
      "<ipython-input-11-8b6f591efd8c>:1: SettingWithCopyWarning: \n",
      "A value is trying to be set on a copy of a slice from a DataFrame.\n",
      "Try using .loc[row_indexer,col_indexer] = value instead\n",
      "\n",
      "See the caveats in the documentation: https://pandas.pydata.org/pandas-docs/stable/user_guide/indexing.html#returning-a-view-versus-a-copy\n",
      "  df_ev['Reviews'] = df_ev['Reviews'].str.replace('[^\\w\\s]','')\n",
      "<ipython-input-11-8b6f591efd8c>:2: SettingWithCopyWarning: \n",
      "A value is trying to be set on a copy of a slice from a DataFrame.\n",
      "Try using .loc[row_indexer,col_indexer] = value instead\n",
      "\n",
      "See the caveats in the documentation: https://pandas.pydata.org/pandas-docs/stable/user_guide/indexing.html#returning-a-view-versus-a-copy\n",
      "  df_ev['Reviews'] = df_ev['Reviews'].apply(lambda x: \" \".join(x.lower() for x in x.split()))\n"
     ]
    },
    {
     "data": {
      "text/html": [
       "<div>\n",
       "<style scoped>\n",
       "    .dataframe tbody tr th:only-of-type {\n",
       "        vertical-align: middle;\n",
       "    }\n",
       "\n",
       "    .dataframe tbody tr th {\n",
       "        vertical-align: top;\n",
       "    }\n",
       "\n",
       "    .dataframe thead th {\n",
       "        text-align: right;\n",
       "    }\n",
       "</style>\n",
       "<table border=\"1\" class=\"dataframe\">\n",
       "  <thead>\n",
       "    <tr style=\"text-align: right;\">\n",
       "      <th></th>\n",
       "      <th>Brand Name</th>\n",
       "      <th>Price</th>\n",
       "      <th>Rating</th>\n",
       "      <th>Reviews</th>\n",
       "      <th>Review Votes</th>\n",
       "      <th>Size</th>\n",
       "    </tr>\n",
       "  </thead>\n",
       "  <tbody>\n",
       "    <tr>\n",
       "      <th>0</th>\n",
       "      <td>Samsung</td>\n",
       "      <td>199.99</td>\n",
       "      <td>5</td>\n",
       "      <td>i feel so lucky to have found this used phone ...</td>\n",
       "      <td>1.0</td>\n",
       "      <td>BIG</td>\n",
       "    </tr>\n",
       "    <tr>\n",
       "      <th>1</th>\n",
       "      <td>Samsung</td>\n",
       "      <td>199.99</td>\n",
       "      <td>4</td>\n",
       "      <td>nice phone nice up grade from my pantach revue...</td>\n",
       "      <td>0.0</td>\n",
       "      <td>BIG</td>\n",
       "    </tr>\n",
       "    <tr>\n",
       "      <th>2</th>\n",
       "      <td>Samsung</td>\n",
       "      <td>199.99</td>\n",
       "      <td>5</td>\n",
       "      <td>very pleased</td>\n",
       "      <td>0.0</td>\n",
       "      <td>BIG</td>\n",
       "    </tr>\n",
       "    <tr>\n",
       "      <th>3</th>\n",
       "      <td>Samsung</td>\n",
       "      <td>199.99</td>\n",
       "      <td>4</td>\n",
       "      <td>it works good but it goes slow sometimes but i...</td>\n",
       "      <td>0.0</td>\n",
       "      <td>BIG</td>\n",
       "    </tr>\n",
       "    <tr>\n",
       "      <th>4</th>\n",
       "      <td>Samsung</td>\n",
       "      <td>199.99</td>\n",
       "      <td>4</td>\n",
       "      <td>great phone to replace my lost phone the only ...</td>\n",
       "      <td>0.0</td>\n",
       "      <td>BIG</td>\n",
       "    </tr>\n",
       "    <tr>\n",
       "      <th>...</th>\n",
       "      <td>...</td>\n",
       "      <td>...</td>\n",
       "      <td>...</td>\n",
       "      <td>...</td>\n",
       "      <td>...</td>\n",
       "      <td>...</td>\n",
       "    </tr>\n",
       "    <tr>\n",
       "      <th>336071</th>\n",
       "      <td>Samsung</td>\n",
       "      <td>79.95</td>\n",
       "      <td>5</td>\n",
       "      <td>another great deal great price</td>\n",
       "      <td>0.0</td>\n",
       "      <td>BIG</td>\n",
       "    </tr>\n",
       "    <tr>\n",
       "      <th>336072</th>\n",
       "      <td>Samsung</td>\n",
       "      <td>79.95</td>\n",
       "      <td>3</td>\n",
       "      <td>ok</td>\n",
       "      <td>0.0</td>\n",
       "      <td>BIG</td>\n",
       "    </tr>\n",
       "    <tr>\n",
       "      <th>336073</th>\n",
       "      <td>Samsung</td>\n",
       "      <td>79.95</td>\n",
       "      <td>5</td>\n",
       "      <td>passes every drop test onto porcelain tile</td>\n",
       "      <td>0.0</td>\n",
       "      <td>BIG</td>\n",
       "    </tr>\n",
       "    <tr>\n",
       "      <th>336074</th>\n",
       "      <td>Samsung</td>\n",
       "      <td>79.95</td>\n",
       "      <td>3</td>\n",
       "      <td>i returned it because it did not meet my needs...</td>\n",
       "      <td>0.0</td>\n",
       "      <td>BIG</td>\n",
       "    </tr>\n",
       "    <tr>\n",
       "      <th>336075</th>\n",
       "      <td>Samsung</td>\n",
       "      <td>79.95</td>\n",
       "      <td>4</td>\n",
       "      <td>only downside is that apparently verizon no lo...</td>\n",
       "      <td>0.0</td>\n",
       "      <td>BIG</td>\n",
       "    </tr>\n",
       "  </tbody>\n",
       "</table>\n",
       "<p>322136 rows × 6 columns</p>\n",
       "</div>"
      ],
      "text/plain": [
       "       Brand Name   Price  Rating  \\\n",
       "0         Samsung  199.99       5   \n",
       "1         Samsung  199.99       4   \n",
       "2         Samsung  199.99       5   \n",
       "3         Samsung  199.99       4   \n",
       "4         Samsung  199.99       4   \n",
       "...           ...     ...     ...   \n",
       "336071    Samsung   79.95       5   \n",
       "336072    Samsung   79.95       3   \n",
       "336073    Samsung   79.95       5   \n",
       "336074    Samsung   79.95       3   \n",
       "336075    Samsung   79.95       4   \n",
       "\n",
       "                                                  Reviews  Review Votes Size  \n",
       "0       i feel so lucky to have found this used phone ...           1.0  BIG  \n",
       "1       nice phone nice up grade from my pantach revue...           0.0  BIG  \n",
       "2                                            very pleased           0.0  BIG  \n",
       "3       it works good but it goes slow sometimes but i...           0.0  BIG  \n",
       "4       great phone to replace my lost phone the only ...           0.0  BIG  \n",
       "...                                                   ...           ...  ...  \n",
       "336071                     another great deal great price           0.0  BIG  \n",
       "336072                                                 ok           0.0  BIG  \n",
       "336073         passes every drop test onto porcelain tile           0.0  BIG  \n",
       "336074  i returned it because it did not meet my needs...           0.0  BIG  \n",
       "336075  only downside is that apparently verizon no lo...           0.0  BIG  \n",
       "\n",
       "[322136 rows x 6 columns]"
      ]
     },
     "metadata": {},
     "output_type": "display_data"
    }
   ],
   "source": [
    "df_ev['Reviews'] = df_ev['Reviews'].str.replace('[^\\w\\s]','')\n",
    "df_ev['Reviews'] = df_ev['Reviews'].apply(lambda x: \" \".join(x.lower() for x in x.split()))\n",
    "display(df_ev)"
   ]
  },
  {
   "cell_type": "code",
   "execution_count": 12,
   "metadata": {},
   "outputs": [
    {
     "data": {
      "text/html": [
       "<div>\n",
       "<style scoped>\n",
       "    .dataframe tbody tr th:only-of-type {\n",
       "        vertical-align: middle;\n",
       "    }\n",
       "\n",
       "    .dataframe tbody tr th {\n",
       "        vertical-align: top;\n",
       "    }\n",
       "\n",
       "    .dataframe thead th {\n",
       "        text-align: right;\n",
       "    }\n",
       "</style>\n",
       "<table border=\"1\" class=\"dataframe\">\n",
       "  <thead>\n",
       "    <tr style=\"text-align: right;\">\n",
       "      <th></th>\n",
       "      <th>Brand Name</th>\n",
       "      <th>Price</th>\n",
       "      <th>Rating</th>\n",
       "      <th>Reviews</th>\n",
       "      <th>Review Votes</th>\n",
       "      <th>Size</th>\n",
       "    </tr>\n",
       "  </thead>\n",
       "  <tbody>\n",
       "    <tr>\n",
       "      <th>3945</th>\n",
       "      <td>Apple</td>\n",
       "      <td>33.00</td>\n",
       "      <td>1</td>\n",
       "      <td>i paid 135 for this phone and when i received ...</td>\n",
       "      <td>1.0</td>\n",
       "      <td>BIG</td>\n",
       "    </tr>\n",
       "    <tr>\n",
       "      <th>189705</th>\n",
       "      <td>LG</td>\n",
       "      <td>151.86</td>\n",
       "      <td>5</td>\n",
       "      <td>great phone</td>\n",
       "      <td>1.0</td>\n",
       "      <td>BIG</td>\n",
       "    </tr>\n",
       "    <tr>\n",
       "      <th>23945</th>\n",
       "      <td>Apple</td>\n",
       "      <td>199.00</td>\n",
       "      <td>5</td>\n",
       "      <td>i got this for my husband and he absolutely lo...</td>\n",
       "      <td>1.0</td>\n",
       "      <td>BIG</td>\n",
       "    </tr>\n",
       "    <tr>\n",
       "      <th>2701</th>\n",
       "      <td>Apple</td>\n",
       "      <td>115.00</td>\n",
       "      <td>5</td>\n",
       "      <td>great experience as expected</td>\n",
       "      <td>0.0</td>\n",
       "      <td>BIG</td>\n",
       "    </tr>\n",
       "    <tr>\n",
       "      <th>9699</th>\n",
       "      <td>Apple</td>\n",
       "      <td>129.99</td>\n",
       "      <td>5</td>\n",
       "      <td>excelent</td>\n",
       "      <td>0.0</td>\n",
       "      <td>BIG</td>\n",
       "    </tr>\n",
       "    <tr>\n",
       "      <th>...</th>\n",
       "      <td>...</td>\n",
       "      <td>...</td>\n",
       "      <td>...</td>\n",
       "      <td>...</td>\n",
       "      <td>...</td>\n",
       "      <td>...</td>\n",
       "    </tr>\n",
       "    <tr>\n",
       "      <th>7491</th>\n",
       "      <td>Apple</td>\n",
       "      <td>75.00</td>\n",
       "      <td>4</td>\n",
       "      <td>excelent product</td>\n",
       "      <td>0.0</td>\n",
       "      <td>BIG</td>\n",
       "    </tr>\n",
       "    <tr>\n",
       "      <th>56335</th>\n",
       "      <td>Apple</td>\n",
       "      <td>769.99</td>\n",
       "      <td>1</td>\n",
       "      <td>i received a dummy toy phone this phone is a f...</td>\n",
       "      <td>28.0</td>\n",
       "      <td>BIG</td>\n",
       "    </tr>\n",
       "    <tr>\n",
       "      <th>282650</th>\n",
       "      <td>Samsung</td>\n",
       "      <td>168.68</td>\n",
       "      <td>5</td>\n",
       "      <td>there isnt much to say from blackberry 9700 to...</td>\n",
       "      <td>0.0</td>\n",
       "      <td>BIG</td>\n",
       "    </tr>\n",
       "    <tr>\n",
       "      <th>71558</th>\n",
       "      <td>BlackBerry</td>\n",
       "      <td>104.95</td>\n",
       "      <td>4</td>\n",
       "      <td>works great</td>\n",
       "      <td>0.0</td>\n",
       "      <td>BIG</td>\n",
       "    </tr>\n",
       "    <tr>\n",
       "      <th>139630</th>\n",
       "      <td>BLU</td>\n",
       "      <td>199.95</td>\n",
       "      <td>1</td>\n",
       "      <td>the product was looking good but quality wise ...</td>\n",
       "      <td>0.0</td>\n",
       "      <td>BIG</td>\n",
       "    </tr>\n",
       "  </tbody>\n",
       "</table>\n",
       "<p>200 rows × 6 columns</p>\n",
       "</div>"
      ],
      "text/plain": [
       "        Brand Name   Price  Rating  \\\n",
       "3945         Apple   33.00       1   \n",
       "189705          LG  151.86       5   \n",
       "23945        Apple  199.00       5   \n",
       "2701         Apple  115.00       5   \n",
       "9699         Apple  129.99       5   \n",
       "...            ...     ...     ...   \n",
       "7491         Apple   75.00       4   \n",
       "56335        Apple  769.99       1   \n",
       "282650     Samsung  168.68       5   \n",
       "71558   BlackBerry  104.95       4   \n",
       "139630         BLU  199.95       1   \n",
       "\n",
       "                                                  Reviews  Review Votes Size  \n",
       "3945    i paid 135 for this phone and when i received ...           1.0  BIG  \n",
       "189705                                        great phone           1.0  BIG  \n",
       "23945   i got this for my husband and he absolutely lo...           1.0  BIG  \n",
       "2701                         great experience as expected           0.0  BIG  \n",
       "9699                                             excelent           0.0  BIG  \n",
       "...                                                   ...           ...  ...  \n",
       "7491                                     excelent product           0.0  BIG  \n",
       "56335   i received a dummy toy phone this phone is a f...          28.0  BIG  \n",
       "282650  there isnt much to say from blackberry 9700 to...           0.0  BIG  \n",
       "71558                                         works great           0.0  BIG  \n",
       "139630  the product was looking good but quality wise ...           0.0  BIG  \n",
       "\n",
       "[200 rows x 6 columns]"
      ]
     },
     "execution_count": 12,
     "metadata": {},
     "output_type": "execute_result"
    }
   ],
   "source": [
    "df_ev.sample(n = 200)"
   ]
  },
  {
   "cell_type": "code",
   "execution_count": 13,
   "metadata": {},
   "outputs": [
    {
     "name": "stderr",
     "output_type": "stream",
     "text": [
      "[nltk_data] Downloading package stopwords to\n",
      "[nltk_data]     /Users/EvanDietrich/nltk_data...\n",
      "[nltk_data]   Package stopwords is already up-to-date!\n"
     ]
    },
    {
     "data": {
      "text/html": [
       "<div>\n",
       "<style scoped>\n",
       "    .dataframe tbody tr th:only-of-type {\n",
       "        vertical-align: middle;\n",
       "    }\n",
       "\n",
       "    .dataframe tbody tr th {\n",
       "        vertical-align: top;\n",
       "    }\n",
       "\n",
       "    .dataframe thead th {\n",
       "        text-align: right;\n",
       "    }\n",
       "</style>\n",
       "<table border=\"1\" class=\"dataframe\">\n",
       "  <thead>\n",
       "    <tr style=\"text-align: right;\">\n",
       "      <th></th>\n",
       "      <th>Brand Name</th>\n",
       "      <th>Price</th>\n",
       "      <th>Rating</th>\n",
       "      <th>Reviews</th>\n",
       "      <th>Review Votes</th>\n",
       "      <th>Size</th>\n",
       "    </tr>\n",
       "  </thead>\n",
       "  <tbody>\n",
       "    <tr>\n",
       "      <th>0</th>\n",
       "      <td>Samsung</td>\n",
       "      <td>199.99</td>\n",
       "      <td>5</td>\n",
       "      <td>i feel so lucky to have found this used phone ...</td>\n",
       "      <td>1.0</td>\n",
       "      <td>BIG</td>\n",
       "    </tr>\n",
       "    <tr>\n",
       "      <th>1</th>\n",
       "      <td>Samsung</td>\n",
       "      <td>199.99</td>\n",
       "      <td>4</td>\n",
       "      <td>nice phone nice up grade from my pantach revue...</td>\n",
       "      <td>0.0</td>\n",
       "      <td>BIG</td>\n",
       "    </tr>\n",
       "    <tr>\n",
       "      <th>2</th>\n",
       "      <td>Samsung</td>\n",
       "      <td>199.99</td>\n",
       "      <td>5</td>\n",
       "      <td>very pleased</td>\n",
       "      <td>0.0</td>\n",
       "      <td>BIG</td>\n",
       "    </tr>\n",
       "    <tr>\n",
       "      <th>3</th>\n",
       "      <td>Samsung</td>\n",
       "      <td>199.99</td>\n",
       "      <td>4</td>\n",
       "      <td>it works good but it goes slow sometimes but i...</td>\n",
       "      <td>0.0</td>\n",
       "      <td>BIG</td>\n",
       "    </tr>\n",
       "    <tr>\n",
       "      <th>4</th>\n",
       "      <td>Samsung</td>\n",
       "      <td>199.99</td>\n",
       "      <td>4</td>\n",
       "      <td>great phone to replace my lost phone the only ...</td>\n",
       "      <td>0.0</td>\n",
       "      <td>BIG</td>\n",
       "    </tr>\n",
       "  </tbody>\n",
       "</table>\n",
       "</div>"
      ],
      "text/plain": [
       "  Brand Name   Price  Rating  \\\n",
       "0    Samsung  199.99       5   \n",
       "1    Samsung  199.99       4   \n",
       "2    Samsung  199.99       5   \n",
       "3    Samsung  199.99       4   \n",
       "4    Samsung  199.99       4   \n",
       "\n",
       "                                             Reviews  Review Votes Size  \n",
       "0  i feel so lucky to have found this used phone ...           1.0  BIG  \n",
       "1  nice phone nice up grade from my pantach revue...           0.0  BIG  \n",
       "2                                       very pleased           0.0  BIG  \n",
       "3  it works good but it goes slow sometimes but i...           0.0  BIG  \n",
       "4  great phone to replace my lost phone the only ...           0.0  BIG  "
      ]
     },
     "execution_count": 13,
     "metadata": {},
     "output_type": "execute_result"
    }
   ],
   "source": [
    "import nltk\n",
    "nltk.download('stopwords')\n",
    "from nltk.corpus import stopwords\n",
    "stop = stopwords.words('english')\n",
    "\n",
    "\n",
    "df_ev['Reviews'].apply(lambda x: [item for item in x if item not in stop])\n",
    "\n",
    "#df_ev['Cleaned'] = df_ev['Reviews'].apply(lambda x: \" \".join(x for x in x.split() if x not in stopwords))\n",
    "df_ev.head()"
   ]
  },
  {
   "cell_type": "code",
   "execution_count": 14,
   "metadata": {},
   "outputs": [
    {
     "name": "stderr",
     "output_type": "stream",
     "text": [
      "<ipython-input-14-e20c92b7e6c5>:1: SettingWithCopyWarning: \n",
      "A value is trying to be set on a copy of a slice from a DataFrame.\n",
      "Try using .loc[row_indexer,col_indexer] = value instead\n",
      "\n",
      "See the caveats in the documentation: https://pandas.pydata.org/pandas-docs/stable/user_guide/indexing.html#returning-a-view-versus-a-copy\n",
      "  df_ev['Reviews'] = df_ev['Reviews'].str.replace('\\d+', '')\n"
     ]
    },
    {
     "data": {
      "text/html": [
       "<div>\n",
       "<style scoped>\n",
       "    .dataframe tbody tr th:only-of-type {\n",
       "        vertical-align: middle;\n",
       "    }\n",
       "\n",
       "    .dataframe tbody tr th {\n",
       "        vertical-align: top;\n",
       "    }\n",
       "\n",
       "    .dataframe thead th {\n",
       "        text-align: right;\n",
       "    }\n",
       "</style>\n",
       "<table border=\"1\" class=\"dataframe\">\n",
       "  <thead>\n",
       "    <tr style=\"text-align: right;\">\n",
       "      <th></th>\n",
       "      <th>Brand Name</th>\n",
       "      <th>Price</th>\n",
       "      <th>Rating</th>\n",
       "      <th>Reviews</th>\n",
       "      <th>Review Votes</th>\n",
       "      <th>Size</th>\n",
       "    </tr>\n",
       "  </thead>\n",
       "  <tbody>\n",
       "    <tr>\n",
       "      <th>0</th>\n",
       "      <td>Samsung</td>\n",
       "      <td>199.99</td>\n",
       "      <td>5</td>\n",
       "      <td>i feel so lucky to have found this used phone ...</td>\n",
       "      <td>1.0</td>\n",
       "      <td>BIG</td>\n",
       "    </tr>\n",
       "    <tr>\n",
       "      <th>1</th>\n",
       "      <td>Samsung</td>\n",
       "      <td>199.99</td>\n",
       "      <td>4</td>\n",
       "      <td>nice phone nice up grade from my pantach revue...</td>\n",
       "      <td>0.0</td>\n",
       "      <td>BIG</td>\n",
       "    </tr>\n",
       "    <tr>\n",
       "      <th>2</th>\n",
       "      <td>Samsung</td>\n",
       "      <td>199.99</td>\n",
       "      <td>5</td>\n",
       "      <td>very pleased</td>\n",
       "      <td>0.0</td>\n",
       "      <td>BIG</td>\n",
       "    </tr>\n",
       "    <tr>\n",
       "      <th>3</th>\n",
       "      <td>Samsung</td>\n",
       "      <td>199.99</td>\n",
       "      <td>4</td>\n",
       "      <td>it works good but it goes slow sometimes but i...</td>\n",
       "      <td>0.0</td>\n",
       "      <td>BIG</td>\n",
       "    </tr>\n",
       "    <tr>\n",
       "      <th>4</th>\n",
       "      <td>Samsung</td>\n",
       "      <td>199.99</td>\n",
       "      <td>4</td>\n",
       "      <td>great phone to replace my lost phone the only ...</td>\n",
       "      <td>0.0</td>\n",
       "      <td>BIG</td>\n",
       "    </tr>\n",
       "  </tbody>\n",
       "</table>\n",
       "</div>"
      ],
      "text/plain": [
       "  Brand Name   Price  Rating  \\\n",
       "0    Samsung  199.99       5   \n",
       "1    Samsung  199.99       4   \n",
       "2    Samsung  199.99       5   \n",
       "3    Samsung  199.99       4   \n",
       "4    Samsung  199.99       4   \n",
       "\n",
       "                                             Reviews  Review Votes Size  \n",
       "0  i feel so lucky to have found this used phone ...           1.0  BIG  \n",
       "1  nice phone nice up grade from my pantach revue...           0.0  BIG  \n",
       "2                                       very pleased           0.0  BIG  \n",
       "3  it works good but it goes slow sometimes but i...           0.0  BIG  \n",
       "4  great phone to replace my lost phone the only ...           0.0  BIG  "
      ]
     },
     "execution_count": 14,
     "metadata": {},
     "output_type": "execute_result"
    }
   ],
   "source": [
    "df_ev['Reviews'] = df_ev['Reviews'].str.replace('\\d+', '')\n",
    "df_ev.head()"
   ]
  },
  {
   "cell_type": "code",
   "execution_count": 15,
   "metadata": {},
   "outputs": [
    {
     "name": "stderr",
     "output_type": "stream",
     "text": [
      "<ipython-input-15-0aaf587ec21c>:1: SettingWithCopyWarning: \n",
      "A value is trying to be set on a copy of a slice from a DataFrame.\n",
      "Try using .loc[row_indexer,col_indexer] = value instead\n",
      "\n",
      "See the caveats in the documentation: https://pandas.pydata.org/pandas-docs/stable/user_guide/indexing.html#returning-a-view-versus-a-copy\n",
      "  df_ev['Cleaned'] = df_ev['Reviews'].apply(lambda x: \" \".join(x for x in x.split() if x not in stop))\n"
     ]
    },
    {
     "data": {
      "text/html": [
       "<div>\n",
       "<style scoped>\n",
       "    .dataframe tbody tr th:only-of-type {\n",
       "        vertical-align: middle;\n",
       "    }\n",
       "\n",
       "    .dataframe tbody tr th {\n",
       "        vertical-align: top;\n",
       "    }\n",
       "\n",
       "    .dataframe thead th {\n",
       "        text-align: right;\n",
       "    }\n",
       "</style>\n",
       "<table border=\"1\" class=\"dataframe\">\n",
       "  <thead>\n",
       "    <tr style=\"text-align: right;\">\n",
       "      <th></th>\n",
       "      <th>Brand Name</th>\n",
       "      <th>Price</th>\n",
       "      <th>Rating</th>\n",
       "      <th>Reviews</th>\n",
       "      <th>Review Votes</th>\n",
       "      <th>Size</th>\n",
       "      <th>Cleaned</th>\n",
       "    </tr>\n",
       "  </thead>\n",
       "  <tbody>\n",
       "    <tr>\n",
       "      <th>0</th>\n",
       "      <td>Samsung</td>\n",
       "      <td>199.99</td>\n",
       "      <td>5</td>\n",
       "      <td>i feel so lucky to have found this used phone ...</td>\n",
       "      <td>1.0</td>\n",
       "      <td>BIG</td>\n",
       "      <td>feel lucky found used phone us used hard phone...</td>\n",
       "    </tr>\n",
       "    <tr>\n",
       "      <th>1</th>\n",
       "      <td>Samsung</td>\n",
       "      <td>199.99</td>\n",
       "      <td>4</td>\n",
       "      <td>nice phone nice up grade from my pantach revue...</td>\n",
       "      <td>0.0</td>\n",
       "      <td>BIG</td>\n",
       "      <td>nice phone nice grade pantach revue clean set ...</td>\n",
       "    </tr>\n",
       "    <tr>\n",
       "      <th>2</th>\n",
       "      <td>Samsung</td>\n",
       "      <td>199.99</td>\n",
       "      <td>5</td>\n",
       "      <td>very pleased</td>\n",
       "      <td>0.0</td>\n",
       "      <td>BIG</td>\n",
       "      <td>pleased</td>\n",
       "    </tr>\n",
       "    <tr>\n",
       "      <th>3</th>\n",
       "      <td>Samsung</td>\n",
       "      <td>199.99</td>\n",
       "      <td>4</td>\n",
       "      <td>it works good but it goes slow sometimes but i...</td>\n",
       "      <td>0.0</td>\n",
       "      <td>BIG</td>\n",
       "      <td>works good goes slow sometimes good phone love</td>\n",
       "    </tr>\n",
       "    <tr>\n",
       "      <th>4</th>\n",
       "      <td>Samsung</td>\n",
       "      <td>199.99</td>\n",
       "      <td>4</td>\n",
       "      <td>great phone to replace my lost phone the only ...</td>\n",
       "      <td>0.0</td>\n",
       "      <td>BIG</td>\n",
       "      <td>great phone replace lost phone thing volume bu...</td>\n",
       "    </tr>\n",
       "  </tbody>\n",
       "</table>\n",
       "</div>"
      ],
      "text/plain": [
       "  Brand Name   Price  Rating  \\\n",
       "0    Samsung  199.99       5   \n",
       "1    Samsung  199.99       4   \n",
       "2    Samsung  199.99       5   \n",
       "3    Samsung  199.99       4   \n",
       "4    Samsung  199.99       4   \n",
       "\n",
       "                                             Reviews  Review Votes Size  \\\n",
       "0  i feel so lucky to have found this used phone ...           1.0  BIG   \n",
       "1  nice phone nice up grade from my pantach revue...           0.0  BIG   \n",
       "2                                       very pleased           0.0  BIG   \n",
       "3  it works good but it goes slow sometimes but i...           0.0  BIG   \n",
       "4  great phone to replace my lost phone the only ...           0.0  BIG   \n",
       "\n",
       "                                             Cleaned  \n",
       "0  feel lucky found used phone us used hard phone...  \n",
       "1  nice phone nice grade pantach revue clean set ...  \n",
       "2                                            pleased  \n",
       "3     works good goes slow sometimes good phone love  \n",
       "4  great phone replace lost phone thing volume bu...  "
      ]
     },
     "execution_count": 15,
     "metadata": {},
     "output_type": "execute_result"
    }
   ],
   "source": [
    "df_ev['Cleaned'] = df_ev['Reviews'].apply(lambda x: \" \".join(x for x in x.split() if x not in stop))\n",
    "df_ev.head()\n"
   ]
  },
  {
   "cell_type": "code",
   "execution_count": 16,
   "metadata": {},
   "outputs": [],
   "source": [
    "df_ev_big = df_ev[df_ev.Size == 'BIG']\n",
    "df_ev_small = df_ev[df_ev.Size == 'SMALL']"
   ]
  },
  {
   "cell_type": "code",
   "execution_count": 17,
   "metadata": {},
   "outputs": [
    {
     "name": "stdout",
     "output_type": "stream",
     "text": [
      "Total reviews is: 322136\n",
      "Number of big company reviews (aka rows in df_ev_big) is: 300485\n",
      "Number of small company reviews (aka rows in df_ev_big) is: 21651\n"
     ]
    }
   ],
   "source": [
    "print(\"Total reviews is: \" + str(len(df_ev.index)))\n",
    "\n",
    "print(\"Number of big company reviews (aka rows in df_ev_big) is: \" + str(len(df_ev_big.index)))\n",
    "print(\"Number of small company reviews (aka rows in df_ev_big) is: \" + str(len(df_ev_small.index)))\n"
   ]
  },
  {
   "cell_type": "code",
   "execution_count": 18,
   "metadata": {},
   "outputs": [
    {
     "data": {
      "text/html": [
       "<div>\n",
       "<style scoped>\n",
       "    .dataframe tbody tr th:only-of-type {\n",
       "        vertical-align: middle;\n",
       "    }\n",
       "\n",
       "    .dataframe tbody tr th {\n",
       "        vertical-align: top;\n",
       "    }\n",
       "\n",
       "    .dataframe thead th {\n",
       "        text-align: right;\n",
       "    }\n",
       "</style>\n",
       "<table border=\"1\" class=\"dataframe\">\n",
       "  <thead>\n",
       "    <tr style=\"text-align: right;\">\n",
       "      <th></th>\n",
       "      <th>Brand Name</th>\n",
       "      <th>Price</th>\n",
       "      <th>Rating</th>\n",
       "      <th>Reviews</th>\n",
       "      <th>Review Votes</th>\n",
       "      <th>Size</th>\n",
       "      <th>Cleaned</th>\n",
       "    </tr>\n",
       "  </thead>\n",
       "  <tbody>\n",
       "    <tr>\n",
       "      <th>110</th>\n",
       "      <td>Star</td>\n",
       "      <td>269.10</td>\n",
       "      <td>2</td>\n",
       "      <td>when i got phone it wouldnt work i took it to ...</td>\n",
       "      <td>0.0</td>\n",
       "      <td>SMALL</td>\n",
       "      <td>got phone wouldnt work took verizon store batt...</td>\n",
       "    </tr>\n",
       "    <tr>\n",
       "      <th>113</th>\n",
       "      <td>Star</td>\n",
       "      <td>79.99</td>\n",
       "      <td>3</td>\n",
       "      <td>the charger did not work my parents started us...</td>\n",
       "      <td>0.0</td>\n",
       "      <td>SMALL</td>\n",
       "      <td>charger work parents started using cable direc...</td>\n",
       "    </tr>\n",
       "    <tr>\n",
       "      <th>114</th>\n",
       "      <td>Star</td>\n",
       "      <td>79.99</td>\n",
       "      <td>3</td>\n",
       "      <td>the only reason i gave it a  star is because i...</td>\n",
       "      <td>1.0</td>\n",
       "      <td>SMALL</td>\n",
       "      <td>reason gave star little hard elder person use</td>\n",
       "    </tr>\n",
       "    <tr>\n",
       "      <th>115</th>\n",
       "      <td>Star</td>\n",
       "      <td>79.99</td>\n",
       "      <td>5</td>\n",
       "      <td>this phone was purchased for my father i reall...</td>\n",
       "      <td>15.0</td>\n",
       "      <td>SMALL</td>\n",
       "      <td>phone purchased father really like features pr...</td>\n",
       "    </tr>\n",
       "    <tr>\n",
       "      <th>116</th>\n",
       "      <td>Star</td>\n",
       "      <td>59.99</td>\n",
       "      <td>4</td>\n",
       "      <td>this is a great simple phone which is getting ...</td>\n",
       "      <td>9.0</td>\n",
       "      <td>SMALL</td>\n",
       "      <td>great simple phone getting harder harder find ...</td>\n",
       "    </tr>\n",
       "  </tbody>\n",
       "</table>\n",
       "</div>"
      ],
      "text/plain": [
       "    Brand Name   Price  Rating  \\\n",
       "110       Star  269.10       2   \n",
       "113       Star   79.99       3   \n",
       "114       Star   79.99       3   \n",
       "115       Star   79.99       5   \n",
       "116       Star   59.99       4   \n",
       "\n",
       "                                               Reviews  Review Votes   Size  \\\n",
       "110  when i got phone it wouldnt work i took it to ...           0.0  SMALL   \n",
       "113  the charger did not work my parents started us...           0.0  SMALL   \n",
       "114  the only reason i gave it a  star is because i...           1.0  SMALL   \n",
       "115  this phone was purchased for my father i reall...          15.0  SMALL   \n",
       "116  this is a great simple phone which is getting ...           9.0  SMALL   \n",
       "\n",
       "                                               Cleaned  \n",
       "110  got phone wouldnt work took verizon store batt...  \n",
       "113  charger work parents started using cable direc...  \n",
       "114      reason gave star little hard elder person use  \n",
       "115  phone purchased father really like features pr...  \n",
       "116  great simple phone getting harder harder find ...  "
      ]
     },
     "execution_count": 18,
     "metadata": {},
     "output_type": "execute_result"
    }
   ],
   "source": [
    "df_ev_small.head()"
   ]
  },
  {
   "cell_type": "code",
   "execution_count": 19,
   "metadata": {},
   "outputs": [
    {
     "data": {
      "text/html": [
       "<div>\n",
       "<style scoped>\n",
       "    .dataframe tbody tr th:only-of-type {\n",
       "        vertical-align: middle;\n",
       "    }\n",
       "\n",
       "    .dataframe tbody tr th {\n",
       "        vertical-align: top;\n",
       "    }\n",
       "\n",
       "    .dataframe thead th {\n",
       "        text-align: right;\n",
       "    }\n",
       "</style>\n",
       "<table border=\"1\" class=\"dataframe\">\n",
       "  <thead>\n",
       "    <tr style=\"text-align: right;\">\n",
       "      <th></th>\n",
       "      <th>Brand Name</th>\n",
       "      <th>Price</th>\n",
       "      <th>Rating</th>\n",
       "      <th>Reviews</th>\n",
       "      <th>Review Votes</th>\n",
       "      <th>Size</th>\n",
       "      <th>Cleaned</th>\n",
       "    </tr>\n",
       "  </thead>\n",
       "  <tbody>\n",
       "    <tr>\n",
       "      <th>0</th>\n",
       "      <td>Samsung</td>\n",
       "      <td>199.99</td>\n",
       "      <td>5</td>\n",
       "      <td>i feel so lucky to have found this used phone ...</td>\n",
       "      <td>1.0</td>\n",
       "      <td>BIG</td>\n",
       "      <td>feel lucky found used phone us used hard phone...</td>\n",
       "    </tr>\n",
       "    <tr>\n",
       "      <th>1</th>\n",
       "      <td>Samsung</td>\n",
       "      <td>199.99</td>\n",
       "      <td>4</td>\n",
       "      <td>nice phone nice up grade from my pantach revue...</td>\n",
       "      <td>0.0</td>\n",
       "      <td>BIG</td>\n",
       "      <td>nice phone nice grade pantach revue clean set ...</td>\n",
       "    </tr>\n",
       "    <tr>\n",
       "      <th>2</th>\n",
       "      <td>Samsung</td>\n",
       "      <td>199.99</td>\n",
       "      <td>5</td>\n",
       "      <td>very pleased</td>\n",
       "      <td>0.0</td>\n",
       "      <td>BIG</td>\n",
       "      <td>pleased</td>\n",
       "    </tr>\n",
       "    <tr>\n",
       "      <th>3</th>\n",
       "      <td>Samsung</td>\n",
       "      <td>199.99</td>\n",
       "      <td>4</td>\n",
       "      <td>it works good but it goes slow sometimes but i...</td>\n",
       "      <td>0.0</td>\n",
       "      <td>BIG</td>\n",
       "      <td>works good goes slow sometimes good phone love</td>\n",
       "    </tr>\n",
       "    <tr>\n",
       "      <th>4</th>\n",
       "      <td>Samsung</td>\n",
       "      <td>199.99</td>\n",
       "      <td>4</td>\n",
       "      <td>great phone to replace my lost phone the only ...</td>\n",
       "      <td>0.0</td>\n",
       "      <td>BIG</td>\n",
       "      <td>great phone replace lost phone thing volume bu...</td>\n",
       "    </tr>\n",
       "  </tbody>\n",
       "</table>\n",
       "</div>"
      ],
      "text/plain": [
       "  Brand Name   Price  Rating  \\\n",
       "0    Samsung  199.99       5   \n",
       "1    Samsung  199.99       4   \n",
       "2    Samsung  199.99       5   \n",
       "3    Samsung  199.99       4   \n",
       "4    Samsung  199.99       4   \n",
       "\n",
       "                                             Reviews  Review Votes Size  \\\n",
       "0  i feel so lucky to have found this used phone ...           1.0  BIG   \n",
       "1  nice phone nice up grade from my pantach revue...           0.0  BIG   \n",
       "2                                       very pleased           0.0  BIG   \n",
       "3  it works good but it goes slow sometimes but i...           0.0  BIG   \n",
       "4  great phone to replace my lost phone the only ...           0.0  BIG   \n",
       "\n",
       "                                             Cleaned  \n",
       "0  feel lucky found used phone us used hard phone...  \n",
       "1  nice phone nice grade pantach revue clean set ...  \n",
       "2                                            pleased  \n",
       "3     works good goes slow sometimes good phone love  \n",
       "4  great phone replace lost phone thing volume bu...  "
      ]
     },
     "execution_count": 19,
     "metadata": {},
     "output_type": "execute_result"
    }
   ],
   "source": [
    "df_ev_big.head()"
   ]
  },
  {
   "cell_type": "code",
   "execution_count": 20,
   "metadata": {},
   "outputs": [
    {
     "name": "stdout",
     "output_type": "stream",
     "text": [
      "Average rating for a small company phone is: 3.1498314165627455\n",
      "Average rating for a big company phone is: 3.861081251975972\n"
     ]
    }
   ],
   "source": [
    "print(\"Average rating for a small company phone is: \" + str(df_ev_small[\"Rating\"].mean()))\n",
    "print(\"Average rating for a big company phone is: \" + str(df_ev_big[\"Rating\"].mean()))"
   ]
  },
  {
   "cell_type": "code",
   "execution_count": 21,
   "metadata": {},
   "outputs": [
    {
     "name": "stderr",
     "output_type": "stream",
     "text": [
      "[nltk_data] Downloading package wordnet to\n",
      "[nltk_data]     /Users/EvanDietrich/nltk_data...\n",
      "[nltk_data]   Package wordnet is already up-to-date!\n",
      "<ipython-input-21-817cbe591b08>:6: SettingWithCopyWarning: \n",
      "A value is trying to be set on a copy of a slice from a DataFrame.\n",
      "Try using .loc[row_indexer,col_indexer] = value instead\n",
      "\n",
      "See the caveats in the documentation: https://pandas.pydata.org/pandas-docs/stable/user_guide/indexing.html#returning-a-view-versus-a-copy\n",
      "  df_ev_small['Cleaned'] = [lemmatizer.lemmatize(row) for row in df_ev_small['Cleaned']]\n"
     ]
    },
    {
     "data": {
      "text/html": [
       "<div>\n",
       "<style scoped>\n",
       "    .dataframe tbody tr th:only-of-type {\n",
       "        vertical-align: middle;\n",
       "    }\n",
       "\n",
       "    .dataframe tbody tr th {\n",
       "        vertical-align: top;\n",
       "    }\n",
       "\n",
       "    .dataframe thead th {\n",
       "        text-align: right;\n",
       "    }\n",
       "</style>\n",
       "<table border=\"1\" class=\"dataframe\">\n",
       "  <thead>\n",
       "    <tr style=\"text-align: right;\">\n",
       "      <th></th>\n",
       "      <th>Brand Name</th>\n",
       "      <th>Price</th>\n",
       "      <th>Rating</th>\n",
       "      <th>Reviews</th>\n",
       "      <th>Review Votes</th>\n",
       "      <th>Size</th>\n",
       "      <th>Cleaned</th>\n",
       "    </tr>\n",
       "  </thead>\n",
       "  <tbody>\n",
       "    <tr>\n",
       "      <th>110</th>\n",
       "      <td>Star</td>\n",
       "      <td>269.10</td>\n",
       "      <td>2</td>\n",
       "      <td>when i got phone it wouldnt work i took it to ...</td>\n",
       "      <td>0.0</td>\n",
       "      <td>SMALL</td>\n",
       "      <td>got phone wouldnt work took verizon store batt...</td>\n",
       "    </tr>\n",
       "    <tr>\n",
       "      <th>113</th>\n",
       "      <td>Star</td>\n",
       "      <td>79.99</td>\n",
       "      <td>3</td>\n",
       "      <td>the charger did not work my parents started us...</td>\n",
       "      <td>0.0</td>\n",
       "      <td>SMALL</td>\n",
       "      <td>charger work parents started using cable direc...</td>\n",
       "    </tr>\n",
       "    <tr>\n",
       "      <th>114</th>\n",
       "      <td>Star</td>\n",
       "      <td>79.99</td>\n",
       "      <td>3</td>\n",
       "      <td>the only reason i gave it a  star is because i...</td>\n",
       "      <td>1.0</td>\n",
       "      <td>SMALL</td>\n",
       "      <td>reason gave star little hard elder person use</td>\n",
       "    </tr>\n",
       "    <tr>\n",
       "      <th>115</th>\n",
       "      <td>Star</td>\n",
       "      <td>79.99</td>\n",
       "      <td>5</td>\n",
       "      <td>this phone was purchased for my father i reall...</td>\n",
       "      <td>15.0</td>\n",
       "      <td>SMALL</td>\n",
       "      <td>phone purchased father really like features pr...</td>\n",
       "    </tr>\n",
       "    <tr>\n",
       "      <th>116</th>\n",
       "      <td>Star</td>\n",
       "      <td>59.99</td>\n",
       "      <td>4</td>\n",
       "      <td>this is a great simple phone which is getting ...</td>\n",
       "      <td>9.0</td>\n",
       "      <td>SMALL</td>\n",
       "      <td>great simple phone getting harder harder find ...</td>\n",
       "    </tr>\n",
       "  </tbody>\n",
       "</table>\n",
       "</div>"
      ],
      "text/plain": [
       "    Brand Name   Price  Rating  \\\n",
       "110       Star  269.10       2   \n",
       "113       Star   79.99       3   \n",
       "114       Star   79.99       3   \n",
       "115       Star   79.99       5   \n",
       "116       Star   59.99       4   \n",
       "\n",
       "                                               Reviews  Review Votes   Size  \\\n",
       "110  when i got phone it wouldnt work i took it to ...           0.0  SMALL   \n",
       "113  the charger did not work my parents started us...           0.0  SMALL   \n",
       "114  the only reason i gave it a  star is because i...           1.0  SMALL   \n",
       "115  this phone was purchased for my father i reall...          15.0  SMALL   \n",
       "116  this is a great simple phone which is getting ...           9.0  SMALL   \n",
       "\n",
       "                                               Cleaned  \n",
       "110  got phone wouldnt work took verizon store batt...  \n",
       "113  charger work parents started using cable direc...  \n",
       "114      reason gave star little hard elder person use  \n",
       "115  phone purchased father really like features pr...  \n",
       "116  great simple phone getting harder harder find ...  "
      ]
     },
     "execution_count": 21,
     "metadata": {},
     "output_type": "execute_result"
    }
   ],
   "source": [
    "import nltk\n",
    "nltk.download('wordnet')\n",
    "from nltk import WordNetLemmatizer\n",
    "lemmatizer = WordNetLemmatizer()\n",
    "\n",
    "df_ev_small['Cleaned'] = [lemmatizer.lemmatize(row) for row in df_ev_small['Cleaned']]\n",
    "df_ev_small.head()"
   ]
  },
  {
   "cell_type": "code",
   "execution_count": 22,
   "metadata": {},
   "outputs": [
    {
     "name": "stderr",
     "output_type": "stream",
     "text": [
      "<ipython-input-22-265645ee2e93>:1: SettingWithCopyWarning: \n",
      "A value is trying to be set on a copy of a slice from a DataFrame.\n",
      "Try using .loc[row_indexer,col_indexer] = value instead\n",
      "\n",
      "See the caveats in the documentation: https://pandas.pydata.org/pandas-docs/stable/user_guide/indexing.html#returning-a-view-versus-a-copy\n",
      "  df_ev_big['Cleaned'] = [lemmatizer.lemmatize(row) for row in df_ev_big['Cleaned']]\n"
     ]
    },
    {
     "data": {
      "text/html": [
       "<div>\n",
       "<style scoped>\n",
       "    .dataframe tbody tr th:only-of-type {\n",
       "        vertical-align: middle;\n",
       "    }\n",
       "\n",
       "    .dataframe tbody tr th {\n",
       "        vertical-align: top;\n",
       "    }\n",
       "\n",
       "    .dataframe thead th {\n",
       "        text-align: right;\n",
       "    }\n",
       "</style>\n",
       "<table border=\"1\" class=\"dataframe\">\n",
       "  <thead>\n",
       "    <tr style=\"text-align: right;\">\n",
       "      <th></th>\n",
       "      <th>Brand Name</th>\n",
       "      <th>Price</th>\n",
       "      <th>Rating</th>\n",
       "      <th>Reviews</th>\n",
       "      <th>Review Votes</th>\n",
       "      <th>Size</th>\n",
       "      <th>Cleaned</th>\n",
       "    </tr>\n",
       "  </thead>\n",
       "  <tbody>\n",
       "    <tr>\n",
       "      <th>0</th>\n",
       "      <td>Samsung</td>\n",
       "      <td>199.99</td>\n",
       "      <td>5</td>\n",
       "      <td>i feel so lucky to have found this used phone ...</td>\n",
       "      <td>1.0</td>\n",
       "      <td>BIG</td>\n",
       "      <td>feel lucky found used phone us used hard phone...</td>\n",
       "    </tr>\n",
       "    <tr>\n",
       "      <th>1</th>\n",
       "      <td>Samsung</td>\n",
       "      <td>199.99</td>\n",
       "      <td>4</td>\n",
       "      <td>nice phone nice up grade from my pantach revue...</td>\n",
       "      <td>0.0</td>\n",
       "      <td>BIG</td>\n",
       "      <td>nice phone nice grade pantach revue clean set ...</td>\n",
       "    </tr>\n",
       "    <tr>\n",
       "      <th>2</th>\n",
       "      <td>Samsung</td>\n",
       "      <td>199.99</td>\n",
       "      <td>5</td>\n",
       "      <td>very pleased</td>\n",
       "      <td>0.0</td>\n",
       "      <td>BIG</td>\n",
       "      <td>pleased</td>\n",
       "    </tr>\n",
       "    <tr>\n",
       "      <th>3</th>\n",
       "      <td>Samsung</td>\n",
       "      <td>199.99</td>\n",
       "      <td>4</td>\n",
       "      <td>it works good but it goes slow sometimes but i...</td>\n",
       "      <td>0.0</td>\n",
       "      <td>BIG</td>\n",
       "      <td>works good goes slow sometimes good phone love</td>\n",
       "    </tr>\n",
       "    <tr>\n",
       "      <th>4</th>\n",
       "      <td>Samsung</td>\n",
       "      <td>199.99</td>\n",
       "      <td>4</td>\n",
       "      <td>great phone to replace my lost phone the only ...</td>\n",
       "      <td>0.0</td>\n",
       "      <td>BIG</td>\n",
       "      <td>great phone replace lost phone thing volume bu...</td>\n",
       "    </tr>\n",
       "  </tbody>\n",
       "</table>\n",
       "</div>"
      ],
      "text/plain": [
       "  Brand Name   Price  Rating  \\\n",
       "0    Samsung  199.99       5   \n",
       "1    Samsung  199.99       4   \n",
       "2    Samsung  199.99       5   \n",
       "3    Samsung  199.99       4   \n",
       "4    Samsung  199.99       4   \n",
       "\n",
       "                                             Reviews  Review Votes Size  \\\n",
       "0  i feel so lucky to have found this used phone ...           1.0  BIG   \n",
       "1  nice phone nice up grade from my pantach revue...           0.0  BIG   \n",
       "2                                       very pleased           0.0  BIG   \n",
       "3  it works good but it goes slow sometimes but i...           0.0  BIG   \n",
       "4  great phone to replace my lost phone the only ...           0.0  BIG   \n",
       "\n",
       "                                             Cleaned  \n",
       "0  feel lucky found used phone us used hard phone...  \n",
       "1  nice phone nice grade pantach revue clean set ...  \n",
       "2                                            pleased  \n",
       "3     works good goes slow sometimes good phone love  \n",
       "4  great phone replace lost phone thing volume bu...  "
      ]
     },
     "execution_count": 22,
     "metadata": {},
     "output_type": "execute_result"
    }
   ],
   "source": [
    "\n",
    "df_ev_big['Cleaned'] = [lemmatizer.lemmatize(row) for row in df_ev_big['Cleaned']]\n",
    "df_ev_big.head()"
   ]
  },
  {
   "cell_type": "code",
   "execution_count": 23,
   "metadata": {
    "scrolled": true
   },
   "outputs": [
    {
     "data": {
      "image/png": "[encoded data removed]",
      "text/plain": [
       "<Figure size 432x288 with 1 Axes>"
      ]
     },
     "metadata": {
      "needs_background": "light"
     },
     "output_type": "display_data"
    }
   ],
   "source": [
    "hist = df_ev_big[\"Rating\"].hist(bins=5)"
   ]
  },
  {
   "cell_type": "code",
   "execution_count": 24,
   "metadata": {},
   "outputs": [
    {
     "data": {
      "image/png": "[encoded data removed]",
      "text/plain": [
       "<Figure size 432x288 with 1 Axes>"
      ]
     },
     "metadata": {
      "needs_background": "light"
     },
     "output_type": "display_data"
    }
   ],
   "source": [
    "hist = df_ev_small[\"Rating\"].hist(bins=5)"
   ]
  },
  {
   "cell_type": "code",
   "execution_count": null,
   "metadata": {},
   "outputs": [],
   "source": []
  },
  {
   "cell_type": "code",
   "execution_count": null,
   "metadata": {},
   "outputs": [],
   "source": [
    "# TO-DO <NOW>\n",
    "# drop 3's from ev_big and ev_small.... \n",
    "## either add new column with \"1\" for 4's and 5's.... and \"0\" for 1's and 2's\n",
    "## then redo the count distribution (there will be less rows in the small company df now )"
   ]
  },
  {
   "cell_type": "code",
   "execution_count": null,
   "metadata": {},
   "outputs": [],
   "source": []
  },
  {
   "cell_type": "code",
   "execution_count": null,
   "metadata": {},
   "outputs": [],
   "source": []
  },
  {
   "cell_type": "code",
   "execution_count": null,
   "metadata": {},
   "outputs": [],
   "source": []
  },
  {
   "cell_type": "code",
   "execution_count": null,
   "metadata": {},
   "outputs": [],
   "source": []
  },
  {
   "cell_type": "code",
   "execution_count": 25,
   "metadata": {},
   "outputs": [],
   "source": [
    "# ToDO: Take max. # from small company batch out of large company batch at random (use sample n = # built-ins perhaps)\n",
    "# ..... then: train/test/split... also a built-in\n",
    "\n",
    "# completed yesterday\n"
   ]
  },
  {
   "cell_type": "code",
   "execution_count": 26,
   "metadata": {},
   "outputs": [
    {
     "data": {
      "text/html": [
       "<div>\n",
       "<style scoped>\n",
       "    .dataframe tbody tr th:only-of-type {\n",
       "        vertical-align: middle;\n",
       "    }\n",
       "\n",
       "    .dataframe tbody tr th {\n",
       "        vertical-align: top;\n",
       "    }\n",
       "\n",
       "    .dataframe thead th {\n",
       "        text-align: right;\n",
       "    }\n",
       "</style>\n",
       "<table border=\"1\" class=\"dataframe\">\n",
       "  <thead>\n",
       "    <tr style=\"text-align: right;\">\n",
       "      <th></th>\n",
       "      <th>Brand Name</th>\n",
       "      <th>Price</th>\n",
       "      <th>Rating</th>\n",
       "      <th>Reviews</th>\n",
       "      <th>Review Votes</th>\n",
       "      <th>Size</th>\n",
       "      <th>Cleaned</th>\n",
       "    </tr>\n",
       "  </thead>\n",
       "  <tbody>\n",
       "    <tr>\n",
       "      <th>236916</th>\n",
       "      <td>Pantech</td>\n",
       "      <td>19.99</td>\n",
       "      <td>4</td>\n",
       "      <td>i wanted to get just a basic talktext phone an...</td>\n",
       "      <td>17.0</td>\n",
       "      <td>SMALL</td>\n",
       "      <td>wanted get basic talktext phone spend ton mone...</td>\n",
       "    </tr>\n",
       "    <tr>\n",
       "      <th>147781</th>\n",
       "      <td>CNPGD</td>\n",
       "      <td>49.99</td>\n",
       "      <td>3</td>\n",
       "      <td>i didnt like it</td>\n",
       "      <td>0.0</td>\n",
       "      <td>SMALL</td>\n",
       "      <td>didnt like</td>\n",
       "    </tr>\n",
       "    <tr>\n",
       "      <th>150878</th>\n",
       "      <td>CNPGD</td>\n",
       "      <td>59.99</td>\n",
       "      <td>1</td>\n",
       "      <td>it ɖօռt աօʀҡ աɨtɦ ʍʏ phone</td>\n",
       "      <td>0.0</td>\n",
       "      <td>SMALL</td>\n",
       "      <td>ɖօռt աօʀҡ աɨtɦ ʍʏ phone</td>\n",
       "    </tr>\n",
       "    <tr>\n",
       "      <th>332713</th>\n",
       "      <td>verykool</td>\n",
       "      <td>37.60</td>\n",
       "      <td>4</td>\n",
       "      <td>i bought this as a first phone for my little s...</td>\n",
       "      <td>0.0</td>\n",
       "      <td>SMALL</td>\n",
       "      <td>bought first phone little sister shes might ac...</td>\n",
       "    </tr>\n",
       "    <tr>\n",
       "      <th>332947</th>\n",
       "      <td>verykool</td>\n",
       "      <td>106.45</td>\n",
       "      <td>5</td>\n",
       "      <td>love it</td>\n",
       "      <td>0.0</td>\n",
       "      <td>SMALL</td>\n",
       "      <td>love</td>\n",
       "    </tr>\n",
       "  </tbody>\n",
       "</table>\n",
       "</div>"
      ],
      "text/plain": [
       "       Brand Name   Price  Rating  \\\n",
       "236916    Pantech   19.99       4   \n",
       "147781      CNPGD   49.99       3   \n",
       "150878      CNPGD   59.99       1   \n",
       "332713   verykool   37.60       4   \n",
       "332947   verykool  106.45       5   \n",
       "\n",
       "                                                  Reviews  Review Votes  \\\n",
       "236916  i wanted to get just a basic talktext phone an...          17.0   \n",
       "147781                                    i didnt like it           0.0   \n",
       "150878                         it ɖօռt աօʀҡ աɨtɦ ʍʏ phone           0.0   \n",
       "332713  i bought this as a first phone for my little s...           0.0   \n",
       "332947                                            love it           0.0   \n",
       "\n",
       "         Size                                            Cleaned  \n",
       "236916  SMALL  wanted get basic talktext phone spend ton mone...  \n",
       "147781  SMALL                                         didnt like  \n",
       "150878  SMALL                            ɖօռt աօʀҡ աɨtɦ ʍʏ phone  \n",
       "332713  SMALL  bought first phone little sister shes might ac...  \n",
       "332947  SMALL                                               love  "
      ]
     },
     "execution_count": 26,
     "metadata": {},
     "output_type": "execute_result"
    }
   ],
   "source": [
    "# new dataframe with just small and new dataframe with just big (same length)\n",
    "#makes new sample dataframes of same size \n",
    "df_small_sample = df_ev_small.sample(n=len(df_ev_small[\"Size\"].to_list()))\n",
    "df_big_sample = df_ev_big.sample(n=len(df_ev_small[\"Size\"].to_list()))\n",
    "\n",
    "# makes a new dataframe with both dataframes in them\n",
    "df_both_sample = pd.concat([df_small_sample, df_big_sample]) #df_small_sample + df_big_sample\n",
    "df_both_sample.head()"
   ]
  },
  {
   "cell_type": "code",
   "execution_count": null,
   "metadata": {},
   "outputs": [],
   "source": []
  },
  {
   "cell_type": "code",
   "execution_count": null,
   "metadata": {},
   "outputs": [],
   "source": []
  },
  {
   "cell_type": "code",
   "execution_count": null,
   "metadata": {},
   "outputs": [],
   "source": []
  },
  {
   "cell_type": "code",
   "execution_count": 27,
   "metadata": {},
   "outputs": [],
   "source": [
    "cleanReview = df_both_sample[\"Cleaned\"]\n",
    "rating = df_both_sample[\"Rating\"]"
   ]
  },
  {
   "cell_type": "code",
   "execution_count": 37,
   "metadata": {},
   "outputs": [],
   "source": [
    "import sklearn.model_selection\n",
    "from sklearn.model_selection import train_test_split\n"
   ]
  },
  {
   "cell_type": "code",
   "execution_count": 38,
   "metadata": {},
   "outputs": [],
   "source": [
    "X_train, X_test, y_train, y_test = train_test_split(cleanReview, rating, test_size = 0.25, random_state = 2)\n",
    "\n",
    "\n",
    "#train_test_split(\n",
    "#...     X, y, test_size=0.33, random_state=42)"
   ]
  },
  {
   "cell_type": "code",
   "execution_count": null,
   "metadata": {},
   "outputs": [],
   "source": [
    "# train_rating.head()\n",
    "# train_review.head()"
   ]
  },
  {
   "cell_type": "code",
   "execution_count": null,
   "metadata": {},
   "outputs": [],
   "source": []
  },
  {
   "cell_type": "code",
   "execution_count": null,
   "metadata": {},
   "outputs": [],
   "source": []
  },
  {
   "cell_type": "markdown",
   "metadata": {},
   "source": [
    "## Count Vectorizer"
   ]
  },
  {
   "cell_type": "code",
   "execution_count": 39,
   "metadata": {},
   "outputs": [
    {
     "data": {
      "text/plain": [
       "['__',\n",
       " 'batterey',\n",
       " 'cingularatt',\n",
       " 'devicesknow',\n",
       " 'extent',\n",
       " 'gwithout',\n",
       " 'janky',\n",
       " 'minssometimes',\n",
       " 'overseasno',\n",
       " 'prosscreen',\n",
       " 'saturating',\n",
       " 'steer',\n",
       " 'troublei',\n",
       " 'workingonly']"
      ]
     },
     "execution_count": 39,
     "metadata": {},
     "output_type": "execute_result"
    }
   ],
   "source": [
    "from sklearn.feature_extraction.text import CountVectorizer\n",
    "#fit the countVectorizer to the training data.\n",
    "vect = CountVectorizer()\n",
    "vect.fit(X_train)\n",
    "\n",
    "#getting every 2000 vocabulay features.\n",
    "vect.get_feature_names()[::2000]"
   ]
  },
  {
   "cell_type": "code",
   "execution_count": 40,
   "metadata": {},
   "outputs": [
    {
     "data": {
      "text/plain": [
       "26481"
      ]
     },
     "execution_count": 40,
     "metadata": {},
     "output_type": "execute_result"
    }
   ],
   "source": [
    "len(vect.get_feature_names())"
   ]
  },
  {
   "cell_type": "code",
   "execution_count": 41,
   "metadata": {},
   "outputs": [
    {
     "data": {
      "text/plain": [
       "<32476x26481 sparse matrix of type '<class 'numpy.int64'>'\n",
       "\twith 605593 stored elements in Compressed Sparse Row format>"
      ]
     },
     "execution_count": 41,
     "metadata": {},
     "output_type": "execute_result"
    }
   ],
   "source": [
    "#transform the document in the training data to a document term matrix.\n",
    "X_train_vectorized = vect.transform(X_train)\n",
    "X_train_vectorized"
   ]
  },
  {
   "cell_type": "code",
   "execution_count": 42,
   "metadata": {},
   "outputs": [
    {
     "name": "stderr",
     "output_type": "stream",
     "text": [
      "/usr/local/lib/python3.8/site-packages/sklearn/linear_model/_logistic.py:762: ConvergenceWarning: lbfgs failed to converge (status=1):\n",
      "STOP: TOTAL NO. of ITERATIONS REACHED LIMIT.\n",
      "\n",
      "Increase the number of iterations (max_iter) or scale the data as shown in:\n",
      "    https://scikit-learn.org/stable/modules/preprocessing.html\n",
      "Please also refer to the documentation for alternative solver options:\n",
      "    https://scikit-learn.org/stable/modules/linear_model.html#logistic-regression\n",
      "  )\n"
     ]
    },
    {
     "data": {
      "text/plain": [
       "LogisticRegression()"
      ]
     },
     "execution_count": 42,
     "metadata": {},
     "output_type": "execute_result"
    }
   ],
   "source": [
    "from sklearn.linear_model import LogisticRegression\n",
    "#train the model.\n",
    "model = LogisticRegression()\n",
    "model.fit(X_train_vectorized,y_train)"
   ]
  },
  {
   "cell_type": "code",
   "execution_count": 43,
   "metadata": {},
   "outputs": [
    {
     "ename": "AxisError",
     "evalue": "axis 1 is out of bounds for array of dimension 1",
     "output_type": "error",
     "traceback": [
      "\u001b[0;31m---------------------------------------------------------------------------\u001b[0m",
      "\u001b[0;31mAxisError\u001b[0m                                 Traceback (most recent call last)",
      "\u001b[0;32m<ipython-input-43-1f71a11bacbd>\u001b[0m in \u001b[0;36m<module>\u001b[0;34m\u001b[0m\n\u001b[1;32m      3\u001b[0m \u001b[0;31m#predict the transform test document.\u001b[0m\u001b[0;34m\u001b[0m\u001b[0;34m\u001b[0m\u001b[0;34m\u001b[0m\u001b[0m\n\u001b[1;32m      4\u001b[0m \u001b[0mpredictions\u001b[0m \u001b[0;34m=\u001b[0m \u001b[0mmodel\u001b[0m\u001b[0;34m.\u001b[0m\u001b[0mpredict\u001b[0m\u001b[0;34m(\u001b[0m\u001b[0mvect\u001b[0m\u001b[0;34m.\u001b[0m\u001b[0mtransform\u001b[0m\u001b[0;34m(\u001b[0m\u001b[0mX_test\u001b[0m\u001b[0;34m)\u001b[0m\u001b[0;34m)\u001b[0m\u001b[0;34m\u001b[0m\u001b[0;34m\u001b[0m\u001b[0m\n\u001b[0;32m----> 5\u001b[0;31m \u001b[0mprint\u001b[0m\u001b[0;34m(\u001b[0m\u001b[0;34m'AUC: '\u001b[0m\u001b[0;34m,\u001b[0m\u001b[0mroc_auc_score\u001b[0m\u001b[0;34m(\u001b[0m\u001b[0my_test\u001b[0m\u001b[0;34m,\u001b[0m \u001b[0mpredictions\u001b[0m\u001b[0;34m,\u001b[0m \u001b[0mmulti_class\u001b[0m\u001b[0;34m=\u001b[0m\u001b[0;34m'ova'\u001b[0m\u001b[0;34m)\u001b[0m\u001b[0;34m)\u001b[0m\u001b[0;34m\u001b[0m\u001b[0;34m\u001b[0m\u001b[0m\n\u001b[0m",
      "\u001b[0;32m/usr/local/lib/python3.8/site-packages/sklearn/utils/validation.py\u001b[0m in \u001b[0;36minner_f\u001b[0;34m(*args, **kwargs)\u001b[0m\n\u001b[1;32m     70\u001b[0m             warnings.warn(f\"Pass {args_msg} as keyword args. From version \"\n\u001b[1;32m     71\u001b[0m                           \u001b[0;34mf\"{version} passing these as positional arguments \"\u001b[0m\u001b[0;34m\u001b[0m\u001b[0;34m\u001b[0m\u001b[0m\n\u001b[0;32m---> 72\u001b[0;31m                           \"will result in an error\", FutureWarning)\n\u001b[0m\u001b[1;32m     73\u001b[0m             \u001b[0mkwargs\u001b[0m\u001b[0;34m.\u001b[0m\u001b[0mupdate\u001b[0m\u001b[0;34m(\u001b[0m\u001b[0mzip\u001b[0m\u001b[0;34m(\u001b[0m\u001b[0msig\u001b[0m\u001b[0;34m.\u001b[0m\u001b[0mparameters\u001b[0m\u001b[0;34m,\u001b[0m \u001b[0margs\u001b[0m\u001b[0;34m)\u001b[0m\u001b[0;34m)\u001b[0m\u001b[0;34m\u001b[0m\u001b[0;34m\u001b[0m\u001b[0m\n\u001b[1;32m     74\u001b[0m             \u001b[0;32mreturn\u001b[0m \u001b[0mf\u001b[0m\u001b[0;34m(\u001b[0m\u001b[0;34m**\u001b[0m\u001b[0mkwargs\u001b[0m\u001b[0;34m)\u001b[0m\u001b[0;34m\u001b[0m\u001b[0;34m\u001b[0m\u001b[0m\n",
      "\u001b[0;32m/usr/local/lib/python3.8/site-packages/sklearn/metrics/_ranking.py\u001b[0m in \u001b[0;36mroc_auc_score\u001b[0;34m(y_true, y_score, average, sample_weight, max_fpr, multi_class, labels)\u001b[0m\n\u001b[1;32m    383\u001b[0m           \u001b[0;31m`\u001b[0m\u001b[0mpredict_proba\u001b[0m\u001b[0;31m`\u001b[0m \u001b[0mmethod\u001b[0m\u001b[0;34m.\u001b[0m \u001b[0mThe\u001b[0m \u001b[0mprobability\u001b[0m \u001b[0mestimates\u001b[0m \u001b[0;34m**\u001b[0m\u001b[0mmust\u001b[0m\u001b[0;34m**\u001b[0m\u001b[0;34m\u001b[0m\u001b[0;34m\u001b[0m\u001b[0m\n\u001b[1;32m    384\u001b[0m           \u001b[0msum\u001b[0m \u001b[0mto\u001b[0m \u001b[0;36m1\u001b[0m \u001b[0macross\u001b[0m \u001b[0mthe\u001b[0m \u001b[0mpossible\u001b[0m \u001b[0mclasses\u001b[0m\u001b[0;34m.\u001b[0m \u001b[0mIn\u001b[0m \u001b[0maddition\u001b[0m\u001b[0;34m,\u001b[0m \u001b[0mthe\u001b[0m \u001b[0morder\u001b[0m \u001b[0mof\u001b[0m \u001b[0mthe\u001b[0m\u001b[0;34m\u001b[0m\u001b[0;34m\u001b[0m\u001b[0m\n\u001b[0;32m--> 385\u001b[0;31m           \u001b[0;32mclass\u001b[0m \u001b[0mscores\u001b[0m \u001b[0mmust\u001b[0m \u001b[0mcorrespond\u001b[0m \u001b[0mto\u001b[0m \u001b[0mthe\u001b[0m \u001b[0morder\u001b[0m \u001b[0mof\u001b[0m\u001b[0;31m \u001b[0m\u001b[0;31m`\u001b[0m\u001b[0;31m`\u001b[0m\u001b[0mlabels\u001b[0m\u001b[0;31m`\u001b[0m\u001b[0;31m`\u001b[0m\u001b[0;34m,\u001b[0m\u001b[0;34m\u001b[0m\u001b[0;34m\u001b[0m\u001b[0m\n\u001b[0m\u001b[1;32m    386\u001b[0m           \u001b[0;32mif\u001b[0m \u001b[0mprovided\u001b[0m\u001b[0;34m,\u001b[0m \u001b[0;32mor\u001b[0m \u001b[0;32melse\u001b[0m \u001b[0mto\u001b[0m \u001b[0mthe\u001b[0m \u001b[0mnumerical\u001b[0m \u001b[0;32mor\u001b[0m \u001b[0mlexicographical\u001b[0m \u001b[0morder\u001b[0m \u001b[0mof\u001b[0m\u001b[0;34m\u001b[0m\u001b[0;34m\u001b[0m\u001b[0m\n\u001b[1;32m    387\u001b[0m           \u001b[0mthe\u001b[0m \u001b[0mlabels\u001b[0m \u001b[0;32min\u001b[0m\u001b[0;31m \u001b[0m\u001b[0;31m`\u001b[0m\u001b[0;31m`\u001b[0m\u001b[0my_true\u001b[0m\u001b[0;31m`\u001b[0m\u001b[0;31m`\u001b[0m\u001b[0;34m.\u001b[0m \u001b[0mSee\u001b[0m \u001b[0mmore\u001b[0m \u001b[0minformation\u001b[0m \u001b[0;32min\u001b[0m \u001b[0mthe\u001b[0m\u001b[0;34m\u001b[0m\u001b[0;34m\u001b[0m\u001b[0m\n",
      "\u001b[0;32m/usr/local/lib/python3.8/site-packages/sklearn/metrics/_ranking.py\u001b[0m in \u001b[0;36m_multiclass_roc_auc_score\u001b[0;34m(y_true, y_score, labels, multi_class, average, sample_weight)\u001b[0m\n\u001b[1;32m    441\u001b[0m             \u001b[0mpossible\u001b[0m \u001b[0mpairwise\u001b[0m \u001b[0mcombinations\u001b[0m \u001b[0mof\u001b[0m \u001b[0mclasses\u001b[0m \u001b[0;34m[\u001b[0m\u001b[0;36m5\u001b[0m\u001b[0;34m]\u001b[0m\u001b[0m_\u001b[0m\u001b[0;34m.\u001b[0m\u001b[0;34m\u001b[0m\u001b[0;34m\u001b[0m\u001b[0m\n\u001b[1;32m    442\u001b[0m             \u001b[0mInsensitive\u001b[0m \u001b[0mto\u001b[0m \u001b[0;32mclass\u001b[0m \u001b[0mimbalance\u001b[0m \u001b[0mwhen\u001b[0m\u001b[0;34m\u001b[0m\u001b[0;34m\u001b[0m\u001b[0m\n\u001b[0;32m--> 443\u001b[0;31m             \u001b[0;31m`\u001b[0m\u001b[0;31m`\u001b[0m\u001b[0maverage\u001b[0m \u001b[0;34m==\u001b[0m \u001b[0;34m'macro'\u001b[0m\u001b[0;31m`\u001b[0m\u001b[0;31m`\u001b[0m\u001b[0;34m.\u001b[0m\u001b[0;34m\u001b[0m\u001b[0;34m\u001b[0m\u001b[0m\n\u001b[0m\u001b[1;32m    444\u001b[0m \u001b[0;34m\u001b[0m\u001b[0m\n\u001b[1;32m    445\u001b[0m     \u001b[0mlabels\u001b[0m \u001b[0;34m:\u001b[0m \u001b[0marray\u001b[0m\u001b[0;34m-\u001b[0m\u001b[0mlike\u001b[0m \u001b[0mof\u001b[0m \u001b[0mshape\u001b[0m \u001b[0;34m(\u001b[0m\u001b[0mn_classes\u001b[0m\u001b[0;34m,\u001b[0m\u001b[0;34m)\u001b[0m\u001b[0;34m,\u001b[0m \u001b[0mdefault\u001b[0m\u001b[0;34m=\u001b[0m\u001b[0;32mNone\u001b[0m\u001b[0;34m\u001b[0m\u001b[0;34m\u001b[0m\u001b[0m\n",
      "\u001b[0;32m/usr/local/lib/python3.8/site-packages/numpy/core/_methods.py\u001b[0m in \u001b[0;36m_sum\u001b[0;34m(a, axis, dtype, out, keepdims, initial, where)\u001b[0m\n\u001b[1;32m     45\u001b[0m def _sum(a, axis=None, dtype=None, out=None, keepdims=False,\n\u001b[1;32m     46\u001b[0m          initial=_NoValue, where=True):\n\u001b[0;32m---> 47\u001b[0;31m     \u001b[0;32mreturn\u001b[0m \u001b[0mumr_sum\u001b[0m\u001b[0;34m(\u001b[0m\u001b[0ma\u001b[0m\u001b[0;34m,\u001b[0m \u001b[0maxis\u001b[0m\u001b[0;34m,\u001b[0m \u001b[0mdtype\u001b[0m\u001b[0;34m,\u001b[0m \u001b[0mout\u001b[0m\u001b[0;34m,\u001b[0m \u001b[0mkeepdims\u001b[0m\u001b[0;34m,\u001b[0m \u001b[0minitial\u001b[0m\u001b[0;34m,\u001b[0m \u001b[0mwhere\u001b[0m\u001b[0;34m)\u001b[0m\u001b[0;34m\u001b[0m\u001b[0;34m\u001b[0m\u001b[0m\n\u001b[0m\u001b[1;32m     48\u001b[0m \u001b[0;34m\u001b[0m\u001b[0m\n\u001b[1;32m     49\u001b[0m def _prod(a, axis=None, dtype=None, out=None, keepdims=False,\n",
      "\u001b[0;31mAxisError\u001b[0m: axis 1 is out of bounds for array of dimension 1"
     ]
    }
   ],
   "source": [
    "from sklearn.metrics import roc_auc_score,roc_curve\n",
    "\n",
    "#predict the transform test document.\n",
    "predictions = model.predict(vect.transform(X_test))\n",
    "print('AUC: ',roc_auc_score(y_test, predictions, multi_class='ova'))"
   ]
  },
  {
   "cell_type": "code",
   "execution_count": null,
   "metadata": {},
   "outputs": [],
   "source": [
    "#get the feature names as numpy array.\n",
    "feature_names = np.array(vect.get_feature_names())\n",
    "\n",
    "#sort the coffecient from the model.\n",
    "sorted_coef_index = model.coef_[0].argsort()\n",
    "\n",
    "'''Find the 10 smallest and 10 largest coefficients.\n",
    " The 10 largest coefficients are being indexed using [:-11:-1] \n",
    " so the list returned is in order of largest to smallest.'''\n",
    "\n",
    "print('Smallest Coefficient(Negative reviews): \\n{}\\n'.format(feature_names[sorted_coef_index[:10]]))\n",
    "print('Largest Coeffiecient(Positive reviews): \\n{}'.format(feature_names[sorted_coef_index[:-11:-1]]))"
   ]
  },
  {
   "cell_type": "code",
   "execution_count": null,
   "metadata": {},
   "outputs": [],
   "source": []
  },
  {
   "cell_type": "code",
   "execution_count": null,
   "metadata": {},
   "outputs": [],
   "source": []
  },
  {
   "cell_type": "code",
   "execution_count": null,
   "metadata": {},
   "outputs": [],
   "source": []
  },
  {
   "cell_type": "markdown",
   "metadata": {},
   "source": [
    "## TFIDF(Term Frequency-Inverse Document Frequency"
   ]
  },
  {
   "cell_type": "code",
   "execution_count": null,
   "metadata": {},
   "outputs": [],
   "source": [
    "from sklearn.feature_extraction.text import TfidfVectorizer\n",
    "\n",
    "# Fit the TfidfVectorizer to the training data specifiying a minimum document frequency of 5\n",
    "vect = TfidfVectorizer(min_df=5).fit(X_train)\n",
    "len(vect.get_feature_names())"
   ]
  },
  {
   "cell_type": "code",
   "execution_count": null,
   "metadata": {},
   "outputs": [],
   "source": [
    "X_train_vectorized = vect.transform(X_train)\n",
    "\n",
    "model = LogisticRegression()\n",
    "model.fit(X_train_vectorized, y_train)\n",
    "\n",
    "predictions = model.predict(vect.transform(X_test))\n",
    "\n",
    "print('AUC: ', roc_auc_score(y_test, predictions))"
   ]
  },
  {
   "cell_type": "code",
   "execution_count": null,
   "metadata": {},
   "outputs": [],
   "source": [
    "feature_names = np.array(vect.get_feature_names())\n",
    "\n",
    "sorted_tfidf_index = X_train_vectorized.max(0).toarray()[0].argsort()\n",
    "\n",
    "print('Smallest tfidf:\\n{}\\n'.format(feature_names[sorted_tfidf_index[:10]]))\n",
    "print('Largest tfidf: \\n{}'.format(feature_names[sorted_tfidf_index[:-11:-1]]))"
   ]
  },
  {
   "cell_type": "code",
   "execution_count": null,
   "metadata": {},
   "outputs": [],
   "source": [
    "sorted_coef_index = model.coef_[0].argsort()\n",
    "\n",
    "print('Smallest Coefs:\\n{}\\n'.format(feature_names[sorted_coef_index[:10]]))\n",
    "print('Largest Coefs: \\n{}'.format(feature_names[sorted_coef_index[:-11:-1]]))"
   ]
  },
  {
   "cell_type": "code",
   "execution_count": null,
   "metadata": {},
   "outputs": [],
   "source": [
    "# These ratings are predicted by our current model\n",
    "print(model.predict(vect.transform(['not an issue, phone is working',\n",
    "                                    'an issue, phone is not working'])))"
   ]
  },
  {
   "cell_type": "code",
   "execution_count": null,
   "metadata": {},
   "outputs": [],
   "source": []
  },
  {
   "cell_type": "markdown",
   "metadata": {},
   "source": [
    "## n grams"
   ]
  },
  {
   "cell_type": "code",
   "execution_count": null,
   "metadata": {},
   "outputs": [],
   "source": [
    "# Fit the CountVectorizer to the training data specifiying a minimum \n",
    "# document frequency of 5 and extracting 1-grams and 2-grams\n",
    "vect = CountVectorizer(min_df=5, ngram_range=(1,2)).fit(X_train)\n",
    "\n",
    "X_train_vectorized = vect.transform(X_train)\n",
    "\n",
    "len(vect.get_feature_names())"
   ]
  },
  {
   "cell_type": "code",
   "execution_count": null,
   "metadata": {},
   "outputs": [],
   "source": [
    "model = LogisticRegression()\n",
    "model.fit(X_train_vectorized, y_train)\n",
    "\n",
    "predictions = model.predict(vect.transform(X_test))\n",
    "\n",
    "print('AUC: ', roc_auc_score(y_test, predictions))"
   ]
  },
  {
   "cell_type": "code",
   "execution_count": null,
   "metadata": {},
   "outputs": [],
   "source": [
    "feature_names = np.array(vect.get_feature_names())\n",
    "\n",
    "sorted_coef_index = model.coef_[0].argsort()\n",
    "\n",
    "print('Smallest Coefs:\\n{}\\n'.format(feature_names[sorted_coef_index[:10]]))\n",
    "print('Largest Coefs: \\n{}'.format(feature_names[sorted_coef_index[:-11:-1]]))"
   ]
  },
  {
   "cell_type": "code",
   "execution_count": null,
   "metadata": {},
   "outputs": [],
   "source": [
    "# These reviews are now identified\n",
    "print(model.predict(vect.transform(['not an issue, phone is working',\n",
    "                                    'an issue, phone is not working'])))"
   ]
  },
  {
   "cell_type": "code",
   "execution_count": null,
   "metadata": {},
   "outputs": [],
   "source": []
  },
  {
   "cell_type": "code",
   "execution_count": null,
   "metadata": {},
   "outputs": [],
   "source": []
  },
  {
   "cell_type": "code",
   "execution_count": null,
   "metadata": {},
   "outputs": [],
   "source": []
  },
  {
   "cell_type": "code",
   "execution_count": null,
   "metadata": {},
   "outputs": [],
   "source": []
  },
  {
   "cell_type": "code",
   "execution_count": null,
   "metadata": {},
   "outputs": [],
   "source": []
  },
  {
   "cell_type": "code",
   "execution_count": null,
   "metadata": {},
   "outputs": [],
   "source": []
  },
  {
   "cell_type": "code",
   "execution_count": null,
   "metadata": {},
   "outputs": [],
   "source": [
    "x = df_ev_small['Cleaned']       # Independent Variable\n",
    "y = df_ev_small['Rating']   # Dependent Variable\n"
   ]
  },
  {
   "cell_type": "code",
   "execution_count": null,
   "metadata": {},
   "outputs": [],
   "source": [
    "from sklearn.metrics import f1_score, accuracy_score\n",
    "from sklearn import model_selection, naive_bayes\n",
    "from sklearn.feature_extraction.text import TfidfVectorizer\n",
    "import warnings\n",
    "warnings.filterwarnings(\"ignore\")"
   ]
  },
  {
   "cell_type": "code",
   "execution_count": null,
   "metadata": {},
   "outputs": [],
   "source": [
    "train_x, valid_x, train_y, valid_y = model_selection.train_test_split(x,y, random_state = 2)\n",
    "# split"
   ]
  },
  {
   "cell_type": "code",
   "execution_count": null,
   "metadata": {},
   "outputs": [],
   "source": [
    "# ngram level tf-idf \n",
    "tfidf_vect_ngram = TfidfVectorizer(analyzer='word', token_pattern=r'\\w{1,}', ngram_range=(1,2), max_features=5000)\n",
    "tfidf_vect_ngram.fit(x)\n",
    "xtrain_tfidf_ngram =  tfidf_vect_ngram.transform(train_x)\n",
    "xvalid_tfidf_ngram =  tfidf_vect_ngram.transform(valid_x)"
   ]
  },
  {
   "cell_type": "code",
   "execution_count": null,
   "metadata": {},
   "outputs": [],
   "source": [
    "nb = naive_bayes.MultinomialNB(alpha = 0.6)\n",
    "\n",
    "model = nb.fit(xtrain_tfidf_ngram, train_y)\n",
    "\n",
    "pred = model.predict(xvalid_tfidf_ngram)\n",
    "\n",
    "acc = accuracy_score(valid_y,pred)\n",
    "\n",
    "print('Accuracy of validation set is :', acc)"
   ]
  },
  {
   "cell_type": "code",
   "execution_count": null,
   "metadata": {},
   "outputs": [],
   "source": [
    "score = f1_score(valid_y, pred, average='weighted')\n",
    "print(\"Weighted F score is \",score)"
   ]
  },
  {
   "cell_type": "code",
   "execution_count": null,
   "metadata": {},
   "outputs": [],
   "source": []
  },
  {
   "cell_type": "code",
   "execution_count": null,
   "metadata": {},
   "outputs": [],
   "source": [
    "\n",
    "x = df_ev_big['Cleaned']       # Independent Variable\n",
    "y = df_ev_big['Rating']   # Dependent Variable"
   ]
  },
  {
   "cell_type": "code",
   "execution_count": null,
   "metadata": {},
   "outputs": [],
   "source": []
  },
  {
   "cell_type": "code",
   "execution_count": null,
   "metadata": {},
   "outputs": [],
   "source": []
  },
  {
   "cell_type": "code",
   "execution_count": null,
   "metadata": {},
   "outputs": [],
   "source": []
  },
  {
   "cell_type": "code",
   "execution_count": null,
   "metadata": {},
   "outputs": [],
   "source": []
  },
  {
   "cell_type": "code",
   "execution_count": null,
   "metadata": {},
   "outputs": [],
   "source": []
  },
  {
   "cell_type": "code",
   "execution_count": null,
   "metadata": {},
   "outputs": [],
   "source": []
  },
  {
   "cell_type": "code",
   "execution_count": null,
   "metadata": {},
   "outputs": [],
   "source": []
  },
  {
   "cell_type": "code",
   "execution_count": null,
   "metadata": {},
   "outputs": [],
   "source": [
    "# percentages of data that comes from big/small companies\n",
    "print(dff.value_counts(\"Size\", dropna=False, normalize=True), '\\n')\n",
    "\n",
    "# percentage of data that comes from each company\n",
    "print(dff.value_counts(\"Brand Name\", dropna=False, normalize=True))"
   ]
  },
  {
   "cell_type": "code",
   "execution_count": null,
   "metadata": {},
   "outputs": [],
   "source": [
    "#END OF DATA CLEANING!\n",
    "#END OF DATA CLEANING!\n",
    "#END OF DATA CLEANING!\n",
    "#END OF DATA CLEANING!\n",
    "#END OF DATA CLEANING!"
   ]
  },
  {
   "cell_type": "code",
   "execution_count": null,
   "metadata": {},
   "outputs": [],
   "source": [
    "df = df.sample(frac=0.1, random_state = 5)\n",
    "df.head()"
   ]
  },
  {
   "cell_type": "code",
   "execution_count": null,
   "metadata": {},
   "outputs": [],
   "source": [
    "df.dropna(inplace=True)\n",
    "df=df[df['Rating']!=3]\n",
    "\n",
    "df['Positively Rated'] = np.where(df['Rating']>3,1,0)\n",
    "df.head(10)"
   ]
  },
  {
   "cell_type": "code",
   "execution_count": null,
   "metadata": {},
   "outputs": [],
   "source": [
    "import matplotlib.pyplot as plt\n",
    "%matplotlib inline\n",
    "plt.style.use('fivethirtyeight')\n",
    "\n",
    "fig, (ax0, ax1) = plt.subplots(nrows=1, ncols=2, figsize = (20,12))\n",
    "ax0.scatter(df['Rating'],df['Review Votes'])\n",
    "ax0.set(title= 'Rating vs Review Votes', xlabel = 'Rating', ylabel = 'Review Votes')\n",
    "ax1.plot(df['Rating']==4, df['Rating']==5)\n",
    "ax1.set(title='Rating 4 vs Rating 5', xlabel='Rating 4', ylabel='Rating 5');\n"
   ]
  },
  {
   "cell_type": "code",
   "execution_count": null,
   "metadata": {},
   "outputs": [],
   "source": [
    "df['Positively Rated'].mean()"
   ]
  },
  {
   "cell_type": "code",
   "execution_count": null,
   "metadata": {},
   "outputs": [],
   "source": [
    "ylabel = df['Price']\n",
    "plt.ylabel(\"Price\")\n",
    "plt.xlabel(\"Rating\")\n",
    "xlabel = df[\"Rating\"]\n",
    "plt.scatter(xlabel, ylabel, alpha =0.1)\n",
    "plt.show()"
   ]
  },
  {
   "cell_type": "code",
   "execution_count": null,
   "metadata": {},
   "outputs": [],
   "source": [
    "ylabel2 = df[\"Price\"]\n",
    "plt.ylabel(\"Price\")\n",
    "xlabel2=df[\"Review Votes\"]\n",
    "plt.xlabel(\"Review Votes\")\n",
    "plt.scatter(xlabel2, ylabel2, alpha=0.1)\n",
    "plt.show()"
   ]
  },
  {
   "cell_type": "code",
   "execution_count": null,
   "metadata": {},
   "outputs": [],
   "source": [
    "from sklearn.model_selection import train_test_split\n",
    "X = df['Reviews']\n",
    "y = df['Positively Rated']\n",
    "\n",
    "X_train, X_test, y_train, y_test = train_test_split(X, y, random_state = 0)\n",
    "print('X_train first entry:\\n', X_train.iloc[0])\n",
    "print('\\nX_train shape', X_train.shape)\n",
    "\n",
    "df['Positively Rated'].value_counts()"
   ]
  },
  {
   "cell_type": "code",
   "execution_count": null,
   "metadata": {},
   "outputs": [],
   "source": [
    "from sklearn.feature_extraction.text import CountVectorizer\n",
    "vect = CountVectorizer()\n",
    "vect.fit(X_train)\n",
    "\n",
    "vect.get_feature_names()[::2000]"
   ]
  },
  {
   "cell_type": "code",
   "execution_count": null,
   "metadata": {},
   "outputs": [],
   "source": [
    "len(vect.get_feature_names())"
   ]
  },
  {
   "cell_type": "code",
   "execution_count": null,
   "metadata": {},
   "outputs": [],
   "source": [
    "X_train_vectorized = vect.transform(X_train)\n",
    "X_train_vectorized"
   ]
  },
  {
   "cell_type": "code",
   "execution_count": null,
   "metadata": {},
   "outputs": [],
   "source": [
    "from sklearn.linear_model import LogisticRegression\n",
    "model = LogisticRegression()\n",
    "model.fit(X_train_vectorized, y_train)"
   ]
  },
  {
   "cell_type": "code",
   "execution_count": null,
   "metadata": {},
   "outputs": [],
   "source": [
    "from sklearn.metrics import roc_auc_score, roc_curve\n",
    "\n",
    "predictions = model.predict(vect.transform(X_test))\n",
    "print('AUC: ', roc_auc_score(y_test,predictions))"
   ]
  },
  {
   "cell_type": "code",
   "execution_count": null,
   "metadata": {},
   "outputs": [],
   "source": [
    "feature_names = np.array(vect.get_feature_names())\n",
    "# ^above... gets feature names as np (numpy) array\n",
    "# sorts coefficient from model\n",
    "sorted_coef_index =model.coef_[0].argsort()\n",
    "\n",
    "print('Smallest Coefficient (Negative reviews): \\n{}\\n'.format(feature_names[sorted_coef_index[:10]]))\n",
    "print('Largest Coefficient (Positive reviews): \\n{}'.format(feature_names[sorted_coef_index[:-11:-1]]))"
   ]
  },
  {
   "cell_type": "code",
   "execution_count": null,
   "metadata": {},
   "outputs": [],
   "source": [
    "print(model.predict(vect.transform(['This is a terrible phone, barely turns on, bad battery', 'Been great, have used for over two years, never had a problem. 10/10', 'constatnly drops connection, a bit overpriced, looking for a new phone soon','love it!'])))"
   ]
  }
 ],
 "metadata": {
  "interpreter": {
   "hash": "a327fee8188753d86e049de1adfdff2099c7107d8c4d4502131eeabfe8f32893"
  },
  "kernelspec": {
   "display_name": "Python 3",
   "language": "python",
   "name": "python3"
  },
  "language_info": {
   "codemirror_mode": {
    "name": "ipython",
    "version": 3
   },
   "file_extension": ".py",
   "mimetype": "text/x-python",
   "name": "python",
   "nbconvert_exporter": "python",
   "pygments_lexer": "ipython3",
   "version": "3.8.7"
  }
 },
 "nbformat": 4,
 "nbformat_minor": 2
}
